{
 "cells": [
  {
   "cell_type": "markdown",
   "metadata": {},
   "source": [
    "## Ingestão de arquivo CSV no HDFS\n",
    "Ingestão feita usando a lib python hdfs"
   ]
  },
  {
   "cell_type": "markdown",
   "metadata": {},
   "source": [
    "### Importando as bibliotecas"
   ]
  },
  {
   "cell_type": "code",
   "execution_count": 3,
   "metadata": {},
   "outputs": [],
   "source": [
    "import requests\n",
    "import os\n",
    "import pandas as pd \n",
    "import hdfs\n",
    "import urllib3\n",
    "\n",
    "from hdfs import InsecureClient\n",
    "from requests.adapters import HTTPAdapter\n",
    "from requests.packages.urllib3.util import Retry\n"
   ]
  },
  {
   "cell_type": "markdown",
   "metadata": {},
   "source": [
    "### Parâmetros de conexão"
   ]
  },
  {
   "cell_type": "code",
   "execution_count": 4,
   "metadata": {},
   "outputs": [],
   "source": [
    "max_threads = 50\n",
    "session = requests.Session()\n",
    "\n",
    "retry_strategy = Retry(\n",
    "    total=10,\n",
    "    connect=10,\n",
    "    read=10,\n",
    "    redirect=10,\n",
    "    status_forcelist=[429, 500, 502, 503, 504],\n",
    "    method_whitelist=[\"HEAD\", \"GET\", \"OPTIONS\"],\n",
    ")\n",
    "\n",
    "adapter = HTTPAdapter(\n",
    "    max_retries=retry_strategy, pool_connections=max_threads, pool_maxsize=max_threads,\n",
    ")\n",
    "\n",
    "session.mount(\"https://\", adapter)\n",
    "session.mount(\"http://\", adapter)\n",
    "\n",
    "# client usando IP do host docker\n",
    "client = 'http://192.168.56.1:50070'\n",
    "# URL da tabela csv de crimes \n",
    "URL = 'https://query.data.world/s/giu6keldi3v7dbiijhxwfxyclaw7xn'\n",
    "\n",
    "# Client HDFS\n",
    "hdfs_client = InsecureClient(client, session=session)"
   ]
  },
  {
   "cell_type": "markdown",
   "metadata": {},
   "source": [
    "### Gravando o arquivo CSV no HDFS"
   ]
  },
  {
   "cell_type": "code",
   "execution_count": 6,
   "metadata": {},
   "outputs": [
    {
     "name": "stdout",
     "output_type": "stream",
     "text": [
      "Gravado com sucesso\n"
     ]
    }
   ],
   "source": [
    "# Ler o arquivo csv com pandas\n",
    "response = requests.get(URL)\n",
    "open(\"crimes.csv\", 'wb').write(response.content)\n",
    "\n",
    "df = pd.read_csv(\"crimes.csv\")\n",
    "\n",
    "# Gravar o arquivo csv no HDFS\n",
    "try:\n",
    "    with hdfs_client.write('/datalake/dadosbrutos/crimes.csv', overwrite = True, encoding = 'utf-8') as writer:\n",
    "        df.to_csv(writer)\n",
    "    print(\"Gravado com sucesso\")\n",
    "except hdfs.util.HdfsError as e:\n",
    "    print(f\"[ERRO] {e}\")\n",
    "except urllib3.exceptions.NewConnectionError as e:\n",
    "    print(f\"[ERRO] {e}\")\n",
    "\n",
    "os.remove(\"crimes.csv\")"
   ]
  },
  {
   "cell_type": "code",
   "execution_count": null,
   "metadata": {},
   "outputs": [],
   "source": []
  }
 ],
 "metadata": {
  "kernelspec": {
   "display_name": "Python 3",
   "language": "python",
   "name": "python3"
  },
  "language_info": {
   "codemirror_mode": {
    "name": "ipython",
    "version": 3
   },
   "file_extension": ".py",
   "mimetype": "text/x-python",
   "name": "python",
   "nbconvert_exporter": "python",
   "pygments_lexer": "ipython3",
   "version": "3.6.10"
  }
 },
 "nbformat": 4,
 "nbformat_minor": 2
}

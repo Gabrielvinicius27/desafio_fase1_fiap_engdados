{
 "cells": [
  {
   "cell_type": "markdown",
   "metadata": {},
   "source": [
    "## Ingestão de arquivo CSV no HDFS\n",
    "Ingestão feita usando a lib python hdfs"
   ]
  },
  {
   "cell_type": "markdown",
   "metadata": {},
   "source": [
    "### Importando as bibliotecas"
   ]
  },
  {
   "cell_type": "code",
   "execution_count": 2,
   "metadata": {},
   "outputs": [
    {
     "name": "stdout",
     "output_type": "stream",
     "text": [
      "Collecting hdfs\n",
      "  Downloading hdfs-2.7.0-py3-none-any.whl (34 kB)\n",
      "Collecting docopt\n",
      "  Downloading docopt-0.6.2.tar.gz (25 kB)\n",
      "Requirement already satisfied: six>=1.9.0 in /opt/anaconda3/lib/python3.6/site-packages (from hdfs) (1.14.0)\n",
      "Requirement already satisfied: requests>=2.7.0 in /opt/anaconda3/lib/python3.6/site-packages (from hdfs) (2.18.4)\n",
      "Requirement already satisfied: chardet<3.1.0,>=3.0.2 in /opt/anaconda3/lib/python3.6/site-packages (from requests>=2.7.0->hdfs) (3.0.4)\n",
      "Requirement already satisfied: idna<2.7,>=2.5 in /opt/anaconda3/lib/python3.6/site-packages (from requests>=2.7.0->hdfs) (2.6)\n",
      "Requirement already satisfied: urllib3<1.23,>=1.21.1 in /opt/anaconda3/lib/python3.6/site-packages (from requests>=2.7.0->hdfs) (1.22)\n",
      "Requirement already satisfied: certifi>=2017.4.17 in /opt/anaconda3/lib/python3.6/site-packages (from requests>=2.7.0->hdfs) (2019.11.28)\n",
      "Building wheels for collected packages: docopt\n",
      "  Building wheel for docopt (setup.py) ... \u001b[?25ldone\n",
      "\u001b[?25h  Created wheel for docopt: filename=docopt-0.6.2-py2.py3-none-any.whl size=13704 sha256=aeda6156d3ec5b4b9e200c9d6cf86e812a071b26e6ebade29e04e1ec5506f019\n",
      "  Stored in directory: /root/.cache/pip/wheels/3f/2a/fa/4d7a888e69774d5e6e855d190a8a51b357d77cc05eb1c097c9\n",
      "Successfully built docopt\n",
      "Installing collected packages: docopt, hdfs\n",
      "Successfully installed docopt-0.6.2 hdfs-2.7.0\n"
     ]
    }
   ],
   "source": [
    "!pip install hdfs"
   ]
  },
  {
   "cell_type": "code",
   "execution_count": 3,
   "metadata": {},
   "outputs": [],
   "source": [
    "import requests\n",
    "import os\n",
    "import pandas as pd \n",
    "import hdfs\n",
    "import urllib3\n",
    "\n",
    "from hdfs import InsecureClient\n",
    "from requests.adapters import HTTPAdapter\n",
    "from requests.packages.urllib3.util import Retry\n"
   ]
  },
  {
   "cell_type": "markdown",
   "metadata": {},
   "source": [
    "### Parâmetros de conexão"
   ]
  },
  {
   "cell_type": "code",
   "execution_count": 4,
   "metadata": {},
   "outputs": [],
   "source": [
    "max_threads = 50\n",
    "session = requests.Session()\n",
    "\n",
    "retry_strategy = Retry(\n",
    "    total=10,\n",
    "    connect=10,\n",
    "    read=10,\n",
    "    redirect=10,\n",
    "    status_forcelist=[429, 500, 502, 503, 504],\n",
    "    method_whitelist=[\"HEAD\", \"GET\", \"OPTIONS\"],\n",
    ")\n",
    "\n",
    "adapter = HTTPAdapter(\n",
    "    max_retries=retry_strategy, pool_connections=max_threads, pool_maxsize=max_threads,\n",
    ")\n",
    "\n",
    "session.mount(\"https://\", adapter)\n",
    "session.mount(\"http://\", adapter)\n",
    "\n",
    "# client usando IP do host docker\n",
    "client = 'http://192.168.56.1:50070'\n",
    "# URL da tabela csv de crimes \n",
    "URL = 'https://query.data.world/s/giu6keldi3v7dbiijhxwfxyclaw7xn'\n",
    "\n",
    "# Client HDFS\n",
    "hdfs_client = InsecureClient(client, session=session)"
   ]
  },
  {
   "cell_type": "markdown",
   "metadata": {},
   "source": [
    "### Gravando o arquivo CSV no HDFS"
   ]
  },
  {
   "cell_type": "code",
   "execution_count": 6,
   "metadata": {},
   "outputs": [
    {
     "name": "stdout",
     "output_type": "stream",
     "text": [
      "Gravado com sucesso\n"
     ]
    }
   ],
   "source": [
    "# Ler o arquivo csv com pandas\n",
    "response = requests.get(URL)\n",
    "open(\"crimes.csv\", 'wb').write(response.content)\n",
    "\n",
    "df = pd.read_csv(\"crimes.csv\")\n",
    "\n",
    "# Gravar o arquivo csv no HDFS\n",
    "try:\n",
    "    with hdfs_client.write('/datalake/dadosbrutos/crimes.csv', overwrite = True, encoding = 'utf-8') as writer:\n",
    "        df.to_csv(writer, header=False, index=False)\n",
    "    print(\"Gravado com sucesso\")\n",
    "except hdfs.util.HdfsError as e:\n",
    "    print(f\"[ERRO] {e}\")\n",
    "except urllib3.exceptions.NewConnectionError as e:\n",
    "    print(f\"[ERRO] {e}\")\n",
    "\n",
    "os.remove(\"crimes.csv\")"
   ]
  },
  {
   "cell_type": "code",
   "execution_count": null,
   "metadata": {},
   "outputs": [],
   "source": []
  }
 ],
 "metadata": {
  "kernelspec": {
   "display_name": "Python 3",
   "language": "python",
   "name": "python3"
  },
  "language_info": {
   "codemirror_mode": {
    "name": "ipython",
    "version": 3
   },
   "file_extension": ".py",
   "mimetype": "text/x-python",
   "name": "python",
   "nbconvert_exporter": "python",
   "pygments_lexer": "ipython3",
   "version": "3.6.10"
  }
 },
 "nbformat": 4,
 "nbformat_minor": 2
}

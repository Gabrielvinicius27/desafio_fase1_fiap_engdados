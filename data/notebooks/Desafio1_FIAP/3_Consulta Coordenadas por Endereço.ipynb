{
 "cells": [
  {
   "cell_type": "markdown",
   "metadata": {},
   "source": [
    "## Lendo arquivodo HDFS"
   ]
  },
  {
   "cell_type": "code",
   "execution_count": 1,
   "metadata": {},
   "outputs": [],
   "source": [
    "from pyspark.sql import SparkSession\n",
    "from pyspark.sql import HiveContext\n",
    "\n",
    "hive_context = HiveContext(sc)\n",
    "\n",
    "spark = SparkSession \\\n",
    "    .builder \\\n",
    "    .appName(\"Teste API\") \\\n",
    "    .enableHiveSupport() \\\n",
    "    .getOrCreate()\n",
    "\n",
    "geo = spark.read.orc('/datalake/dadosbrutos/geolocation_correios.orc')"
   ]
  },
  {
   "cell_type": "markdown",
   "metadata": {},
   "source": [
    "## Consultando coordenadas por cidade e estados distintos "
   ]
  },
  {
   "cell_type": "code",
   "execution_count": null,
   "metadata": {},
   "outputs": [],
   "source": [
    "!pip install geopy"
   ]
  },
  {
   "cell_type": "code",
   "execution_count": 3,
   "metadata": {},
   "outputs": [
    {
     "name": "stdout",
     "output_type": "stream",
     "text": [
      "'NoneType' object has no attribute 'raw'\n",
      "'NoneType' object has no attribute 'raw'\n",
      "'NoneType' object has no attribute 'raw'\n",
      "'NoneType' object has no attribute 'raw'\n",
      "+-----+-------------------+-------------------+\n",
      "|lat  |lon                |_3                 |\n",
      "+-----+-------------------+-------------------+\n",
      "|72805|-16.2535456        |-47.9500276        |\n",
      "|26315|-22.7156978        |-43.555754         |\n",
      "|95480|-29.0489517        |-50.145412         |\n",
      "|77019|-10.1837852        |-48.3336423        |\n",
      "|96070|-31.7699736        |-52.3410161        |\n",
      "|85887|-25.2404183        |-53.9835004        |\n",
      "|16901|-20.896505         |-51.3742765        |\n",
      "|79837|-22.2206145        |-54.812208         |\n",
      "|17063|-22.3218102        |-49.0705863        |\n",
      "|72901|-15.9465415        |-48.2616527        |\n",
      "|14820|-21.7297099        |-48.1052092        |\n",
      "|09770|-23.7080345        |-46.5506747        |\n",
      "|88930|-28.894109999999998|-49.725390543121556|\n",
      "|65260|-2.000269          |-44.528114         |\n",
      "|29200|-20.6718755        |-40.4984617        |\n",
      "|59410|-5.9514918         |-35.9260284        |\n",
      "|65606|-4.8654201         |-43.353664         |\n",
      "|79841|-22.2206145        |-54.812208         |\n",
      "|75256|-16.7013233        |-49.0914921        |\n",
      "|55355|-8.894516849999999 |-36.73692078185357 |\n",
      "+-----+-------------------+-------------------+\n",
      "only showing top 20 rows\n",
      "\n",
      "Tempo total: 606.4552373965581 minutes\n"
     ]
    }
   ],
   "source": [
    "from geopy.geocoders import Nominatim\n",
    "import time\n",
    "\n",
    "start_time = time.time()\n",
    "# Cidade e estado distintos\n",
    "cidades_ufs = geo.select('cep_5_digitos','cidade','uf').distinct().collect()\n",
    "qtde_cidades_ufs = geo.select('cep_5_digitos','cidade','uf').distinct().count()\n",
    "\n",
    "coords = []\n",
    "counter = 0\n",
    "\n",
    "# Consulta com o Geopy qual as coordenadas para cada conjunto cidade, estado.\n",
    "for linha in cidades_ufs:\n",
    "    print(f\"{counter}º Consulta de {qtde_cidades_ufs}\", end=\"\\r\")\n",
    "    try:\n",
    "        geolocator = Nominatim(user_agent=\"test_app\", timeout=15)\n",
    "        location = geolocator.geocode(f'{linha[\"cidade\"]}, {linha[\"uf\"]}')\n",
    "        coords.append([linha['cep_5_digitos'], location.raw[\"lat\"], location.raw[\"lon\"]])\n",
    "        counter += 1\n",
    "    except Exception as e:\n",
    "        print(e)\n",
    "        pass\n",
    "\n",
    "# Cria o dataframe com as coordenadas de cada cep\n",
    "coords_df = spark.createDataFrame(coords, schema=[\"cep_5_digitos\",\"lat\", \"lon\"])\n",
    "coords_df.show(truncate=False)\n",
    "duration = time.time() - start_time\n",
    "print(f\"Tempo total: {duration/60} minutes\")"
   ]
  },
  {
   "cell_type": "markdown",
   "metadata": {},
   "source": [
    "## Grava o resultado no HDFS"
   ]
  },
  {
   "cell_type": "code",
   "execution_count": 8,
   "metadata": {},
   "outputs": [],
   "source": [
    "coords_df.write.orc(f'/datalake/dadosbrutos/geolocation_coords.orc', 'overwrite')"
   ]
  },
  {
   "cell_type": "markdown",
   "metadata": {},
   "source": [
    "## JOIN dos endereços obtidos no site Correios com as coordenadas"
   ]
  },
  {
   "cell_type": "code",
   "execution_count": 23,
   "metadata": {},
   "outputs": [],
   "source": [
    "geo_final = geo.select('cep_5_digitos','cidade', 'uf')\\\n",
    "   .dropDuplicates()\\\n",
    "   .join(\n",
    "        coords_df,\n",
    "        on=[\"cep_5_digitos\"],\n",
    "        how=\"inner\"\n",
    "    )"
   ]
  },
  {
   "cell_type": "code",
   "execution_count": 24,
   "metadata": {},
   "outputs": [
    {
     "name": "stdout",
     "output_type": "stream",
     "text": [
      "+-------------+--------------------+---+-------------------+-------------------+\n",
      "|cep_5_digitos|              cidade| uf|                lat|                lon|\n",
      "+-------------+--------------------+---+-------------------+-------------------+\n",
      "|        72805|            Luziânia| GO|        -16.2535456|        -47.9500276|\n",
      "|        26315|           Queimados| RJ|        -22.7156978|         -43.555754|\n",
      "|        95480|      Cambará do Sul| RS|        -29.0489517|         -50.145412|\n",
      "|        77019|              Palmas| TO|        -10.1837852|        -48.3336423|\n",
      "|        96070|             Pelotas| RS|        -31.7699736|        -52.3410161|\n",
      "|        85887|          Matelândia| PR|        -25.2404183|        -53.9835004|\n",
      "|        16901|           Andradina| SP|         -20.896505|        -51.3742765|\n",
      "|        79837|            Dourados| MS|        -22.2206145|         -54.812208|\n",
      "|        17063|               Bauru| SP|        -22.3218102|        -49.0705863|\n",
      "|        72901|Santo Antônio do ...| GO|        -15.9465415|        -48.2616527|\n",
      "|        14820| Américo Brasiliense| SP|        -21.7297099|        -48.1052092|\n",
      "|        09770|São Bernardo do C...| SP|        -23.7080345|        -46.5506747|\n",
      "|        88930|               Turvo| SC|-28.894109999999998|-49.725390543121556|\n",
      "|        65260|              Cedral| MA|          -2.000269|         -44.528114|\n",
      "|        29200|           Guarapari| ES|        -20.6718755|        -40.4984617|\n",
      "|        59410|           Barcelona| RN|         -5.9514918|        -35.9260284|\n",
      "|        65606|              Caxias| MA|         -4.8654201|         -43.353664|\n",
      "|        79841|            Dourados| MS|        -22.2206145|         -54.812208|\n",
      "|        75256|      Senador Canedo| GO|        -16.7013233|        -49.0914921|\n",
      "|        55355|          Paranatama| PE| -8.894516849999999| -36.73692078185357|\n",
      "+-------------+--------------------+---+-------------------+-------------------+\n",
      "only showing top 20 rows\n",
      "\n"
     ]
    }
   ],
   "source": [
    "geo_final.show()"
   ]
  },
  {
   "cell_type": "markdown",
   "metadata": {},
   "source": [
    "## Grava resultado no HDFS"
   ]
  },
  {
   "cell_type": "code",
   "execution_count": 28,
   "metadata": {},
   "outputs": [],
   "source": [
    "geo_final.write.orc(f'/datalake/dadosbrutos/geolocation_correios_coords.orc', 'overwrite')"
   ]
  }
 ],
 "metadata": {
  "kernelspec": {
   "display_name": "PySpark",
   "language": "python",
   "name": "pyspark"
  },
  "language_info": {
   "codemirror_mode": {
    "name": "ipython",
    "version": 3
   },
   "file_extension": ".py",
   "mimetype": "text/x-python",
   "name": "python",
   "nbconvert_exporter": "python",
   "pygments_lexer": "ipython3",
   "version": "3.6.10"
  }
 },
 "nbformat": 4,
 "nbformat_minor": 2
}

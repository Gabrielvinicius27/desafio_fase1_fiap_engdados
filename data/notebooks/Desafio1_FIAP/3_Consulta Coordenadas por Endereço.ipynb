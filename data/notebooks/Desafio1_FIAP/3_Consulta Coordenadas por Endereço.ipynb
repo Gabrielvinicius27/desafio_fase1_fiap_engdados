{
 "cells": [
  {
   "cell_type": "markdown",
   "metadata": {},
   "source": [
    "## Lendo arquivodo HDFS"
   ]
  },
  {
   "cell_type": "code",
   "execution_count": 1,
   "metadata": {},
   "outputs": [],
   "source": [
    "from pyspark.sql import SparkSession\n",
    "from pyspark.sql import HiveContext\n",
    "\n",
    "hive_context = HiveContext(sc)\n",
    "\n",
    "spark = SparkSession \\\n",
    "    .builder \\\n",
    "    .appName(\"Teste API\") \\\n",
    "    .enableHiveSupport() \\\n",
    "    .getOrCreate()\n",
    "\n",
    "geo = spark.read.orc('/datalake/dadosbrutos/geolocation_correios.orc')"
   ]
  },
  {
   "cell_type": "markdown",
   "metadata": {},
   "source": [
    "## Consultando coordenadas por cidade e estados distintos "
   ]
  },
  {
   "cell_type": "code",
   "execution_count": 2,
   "metadata": {},
   "outputs": [
    {
     "name": "stdout",
     "output_type": "stream",
     "text": [
      "Collecting geopy\n",
      "  Downloading geopy-2.2.0-py3-none-any.whl (118 kB)\n",
      "\u001b[K     |████████████████████████████████| 118 kB 6.1 MB/s eta 0:00:01\n",
      "\u001b[?25hCollecting geographiclib<2,>=1.49\n",
      "  Downloading geographiclib-1.52-py3-none-any.whl (38 kB)\n",
      "Installing collected packages: geographiclib, geopy\n",
      "Successfully installed geographiclib-1.52 geopy-2.2.0\n"
     ]
    }
   ],
   "source": [
    "!pip install geopy"
   ]
  },
  {
   "cell_type": "code",
   "execution_count": 5,
   "metadata": {},
   "outputs": [
    {
     "name": "stdout",
     "output_type": "stream",
     "text": [
      "'NoneType' object has no attribute 'raw'\n",
      "'NoneType' object has no attribute 'raw'\n",
      "'NoneType' object has no attribute 'raw'\n",
      "'NoneType' object has no attribute 'raw'\n",
      "+-------------+------------------+------------------+\n",
      "|cep_5_digitos|lat               |lon               |\n",
      "+-------------+------------------+------------------+\n",
      "|04609        |-23.5506507       |-46.6333824       |\n",
      "|85887        |-25.2404183       |-53.9835004       |\n",
      "|04410        |-23.5506507       |-46.6333824       |\n",
      "|11606        |-23.8027866       |-45.4070527       |\n",
      "|79841        |-22.2206145       |-54.812208        |\n",
      "|75256        |-16.7013233       |-49.0914921       |\n",
      "|65606        |-4.8654201        |-43.353664        |\n",
      "|55355        |-8.894516849999999|-36.73692078185357|\n",
      "|72901        |-15.9465415       |-48.2616527       |\n",
      "|17063        |-22.3218102       |-49.0705863       |\n",
      "|58180        |-6.7562744        |-36.4673179       |\n",
      "|03896        |-23.5506507       |-46.6333824       |\n",
      "|13030        |-22.90556         |-47.06083         |\n",
      "|03522        |-23.5506507       |-46.6333824       |\n",
      "|59410        |-5.9514918        |-35.9260284       |\n",
      "|96415        |-31.3314264       |-54.1062808       |\n",
      "|44500        |-12.7616941       |-39.4281088       |\n",
      "|38540        |-18.3735          |-47.48550892857143|\n",
      "|13916        |-22.70374         |-46.985062        |\n",
      "|20540        |-22.9110137       |-43.2093727       |\n",
      "+-------------+------------------+------------------+\n",
      "only showing top 20 rows\n",
      "\n",
      "Tempo total: 225.6322316567103 minutes\n"
     ]
    }
   ],
   "source": [
    "from geopy.geocoders import Nominatim\n",
    "import time\n",
    "\n",
    "start_time = time.time()\n",
    "# Cidade e estado distintos\n",
    "cidades_ufs = geo.select('cep_5_digitos','cidade','uf').distinct().collect()\n",
    "qtde_cidades_ufs = geo.select('cep_5_digitos','cidade','uf').distinct().count()\n",
    "\n",
    "coords = []\n",
    "counter = 0\n",
    "\n",
    "# Consulta com o Geopy qual as coordenadas para cada conjunto cidade, estado.\n",
    "for linha in cidades_ufs:\n",
    "    print(f\"{counter}º Consulta de {qtde_cidades_ufs}\", end=\"\\r\")\n",
    "    try:\n",
    "        geolocator = Nominatim(user_agent=\"test_app\", timeout=15)\n",
    "        location = geolocator.geocode(f'{linha[\"cidade\"]}, {linha[\"uf\"]}')\n",
    "        coords.append([linha['cep_5_digitos'], location.raw[\"lat\"], location.raw[\"lon\"]])\n",
    "        counter += 1\n",
    "    except Exception as e:\n",
    "        print(e)\n",
    "        pass\n",
    "\n",
    "# Cria o dataframe com as coordenadas de cada cep\n",
    "coords_df = spark.createDataFrame(coords, schema=[\"cep_5_digitos\",\"lat\", \"lon\"])\n",
    "coords_df.show(truncate=False)\n",
    "duration = time.time() - start_time\n",
    "print(f\"Tempo total: {duration/60} minutes\")"
   ]
  },
  {
   "cell_type": "markdown",
   "metadata": {},
   "source": [
    "## Grava o resultado no HDFS"
   ]
  },
  {
   "cell_type": "code",
   "execution_count": 6,
   "metadata": {},
   "outputs": [],
   "source": [
    "coords_df.write.orc(f'/datalake/dadosbrutos/geolocation_coords.orc', 'overwrite')"
   ]
  },
  {
   "cell_type": "markdown",
   "metadata": {},
   "source": [
    "## JOIN dos endereços obtidos no site Correios com as coordenadas"
   ]
  },
  {
   "cell_type": "code",
   "execution_count": 8,
   "metadata": {},
   "outputs": [],
   "source": [
    "geo_final = geo.select('cep_5_digitos','cidade', 'uf')\\\n",
    "   .dropDuplicates()\\\n",
    "   .join(\n",
    "        coords_df,\n",
    "        on=[\"cep_5_digitos\"],\n",
    "        how=\"inner\"\n",
    "    )"
   ]
  },
  {
   "cell_type": "code",
   "execution_count": 9,
   "metadata": {},
   "outputs": [
    {
     "name": "stdout",
     "output_type": "stream",
     "text": [
      "+-------------+--------------------+---+------------------+------------------+\n",
      "|cep_5_digitos|              cidade| uf|               lat|               lon|\n",
      "+-------------+--------------------+---+------------------+------------------+\n",
      "|        04609|           São Paulo| SP|       -23.5506507|       -46.6333824|\n",
      "|        85887|          Matelândia| PR|       -25.2404183|       -53.9835004|\n",
      "|        04410|           São Paulo| SP|       -23.5506507|       -46.6333824|\n",
      "|        11606|       São Sebastião| SP|       -23.8027866|       -45.4070527|\n",
      "|        79841|            Dourados| MS|       -22.2206145|        -54.812208|\n",
      "|        75256|      Senador Canedo| GO|       -16.7013233|       -49.0914921|\n",
      "|        65606|              Caxias| MA|        -4.8654201|        -43.353664|\n",
      "|        55355|          Paranatama| PE|-8.894516849999999|-36.73692078185357|\n",
      "|        72901|Santo Antônio do ...| GO|       -15.9465415|       -48.2616527|\n",
      "|        17063|               Bauru| SP|       -22.3218102|       -49.0705863|\n",
      "|        58180|       Pedra Lavrada| PB|        -6.7562744|       -36.4673179|\n",
      "|        03896|           São Paulo| SP|       -23.5506507|       -46.6333824|\n",
      "|        13030|            Campinas| SP|         -22.90556|         -47.06083|\n",
      "|        03522|           São Paulo| SP|       -23.5506507|       -46.6333824|\n",
      "|        59410|           Barcelona| RN|        -5.9514918|       -35.9260284|\n",
      "|        96415|                Bagé| RS|       -31.3314264|       -54.1062808|\n",
      "|        44500|        Castro Alves| BA|       -12.7616941|       -39.4281088|\n",
      "|        38540| Abadia dos Dourados| MG|          -18.3735|-47.48550892857143|\n",
      "|        13916|          Jaguariúna| SP|         -22.70374|        -46.985062|\n",
      "|        20540|      Rio de Janeiro| RJ|       -22.9110137|       -43.2093727|\n",
      "+-------------+--------------------+---+------------------+------------------+\n",
      "only showing top 20 rows\n",
      "\n"
     ]
    }
   ],
   "source": [
    "geo_final.show()"
   ]
  },
  {
   "cell_type": "markdown",
   "metadata": {},
   "source": [
    "## Grava resultado no HDFS"
   ]
  },
  {
   "cell_type": "code",
   "execution_count": 10,
   "metadata": {},
   "outputs": [
    {
     "name": "stdout",
     "output_type": "stream",
     "text": [
      "root\n",
      " |-- cep_5_digitos: string (nullable = true)\n",
      " |-- cidade: string (nullable = true)\n",
      " |-- uf: string (nullable = true)\n",
      " |-- lat: double (nullable = true)\n",
      " |-- lon: double (nullable = true)\n",
      "\n"
     ]
    }
   ],
   "source": [
    "import pyspark.sql.functions as F\n",
    "geo_final = geo_final\\\n",
    ".withColumn('lat', F.col('lat').cast('double'))\\\n",
    ".withColumn('lon', F.col('lon').cast('double'))\n",
    "\n",
    "geo_final.printSchema()"
   ]
  },
  {
   "cell_type": "code",
   "execution_count": 11,
   "metadata": {},
   "outputs": [],
   "source": [
    "geo_final.write.orc(f'/datalake/dadosbrutos/geolocation_correios_coords.orc', 'overwrite')"
   ]
  }
 ],
 "metadata": {
  "kernelspec": {
   "display_name": "PySpark",
   "language": "python",
   "name": "pyspark"
  },
  "language_info": {
   "codemirror_mode": {
    "name": "ipython",
    "version": 3
   },
   "file_extension": ".py",
   "mimetype": "text/x-python",
   "name": "python",
   "nbconvert_exporter": "python",
   "pygments_lexer": "ipython3",
   "version": "3.6.10"
  }
 },
 "nbformat": 4,
 "nbformat_minor": 2
}

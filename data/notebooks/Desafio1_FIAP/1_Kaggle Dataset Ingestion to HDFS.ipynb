{
 "cells": [
  {
   "cell_type": "code",
   "execution_count": 11,
   "metadata": {},
   "outputs": [
    {
     "name": "stdout",
     "output_type": "stream",
     "text": [
      "Collecting kaggle\n",
      "  Downloading kaggle-1.5.12.tar.gz (58 kB)\n",
      "\u001b[K     |████████████████████████████████| 58 kB 2.5 MB/s eta 0:00:011\n",
      "\u001b[?25hRequirement already satisfied: six>=1.10 in /opt/anaconda3/lib/python3.6/site-packages (from kaggle) (1.14.0)\n",
      "Requirement already satisfied: certifi in /opt/anaconda3/lib/python3.6/site-packages (from kaggle) (2019.11.28)\n",
      "Requirement already satisfied: python-dateutil in /opt/anaconda3/lib/python3.6/site-packages (from kaggle) (2.8.1)\n",
      "Requirement already satisfied: requests in /opt/anaconda3/lib/python3.6/site-packages (from kaggle) (2.18.4)\n",
      "Requirement already satisfied: tqdm in /opt/anaconda3/lib/python3.6/site-packages (from kaggle) (4.64.0)\n",
      "Collecting python-slugify\n",
      "  Downloading python_slugify-6.1.1-py2.py3-none-any.whl (9.1 kB)\n",
      "Requirement already satisfied: urllib3 in /opt/anaconda3/lib/python3.6/site-packages (from kaggle) (1.22)\n",
      "Requirement already satisfied: chardet<3.1.0,>=3.0.2 in /opt/anaconda3/lib/python3.6/site-packages (from requests->kaggle) (3.0.4)\n",
      "Requirement already satisfied: idna<2.7,>=2.5 in /opt/anaconda3/lib/python3.6/site-packages (from requests->kaggle) (2.6)\n",
      "Requirement already satisfied: importlib-resources; python_version < \"3.7\" in /opt/anaconda3/lib/python3.6/site-packages (from tqdm->kaggle) (5.4.0)\n",
      "Collecting text-unidecode>=1.3\n",
      "  Downloading text_unidecode-1.3-py2.py3-none-any.whl (78 kB)\n",
      "\u001b[K     |████████████████████████████████| 78 kB 3.5 MB/s  eta 0:00:01\n",
      "\u001b[?25hRequirement already satisfied: zipp>=3.1.0; python_version < \"3.10\" in /opt/anaconda3/lib/python3.6/site-packages (from importlib-resources; python_version < \"3.7\"->tqdm->kaggle) (3.6.0)\n",
      "Building wheels for collected packages: kaggle\n",
      "  Building wheel for kaggle (setup.py) ... \u001b[?25ldone\n",
      "\u001b[?25h  Created wheel for kaggle: filename=kaggle-1.5.12-py3-none-any.whl size=73053 sha256=0e10c450b56a8051e5d7c01f4aa5a26f7f0dcbd93a2a1fac5d7fbdd0a3ff8ff0\n",
      "  Stored in directory: /root/.cache/pip/wheels/77/47/e4/44a4ba1b7dfd53faaa35f59f1175e123b213ff401a8a56876b\n",
      "Successfully built kaggle\n",
      "Installing collected packages: text-unidecode, python-slugify, kaggle\n",
      "Successfully installed kaggle-1.5.12 python-slugify-6.1.1 text-unidecode-1.3\n",
      "Collecting hdfs\n",
      "  Downloading hdfs-2.7.0-py3-none-any.whl (34 kB)\n",
      "Collecting docopt\n",
      "  Downloading docopt-0.6.2.tar.gz (25 kB)\n",
      "Requirement already satisfied: six>=1.9.0 in /opt/anaconda3/lib/python3.6/site-packages (from hdfs) (1.14.0)\n",
      "Requirement already satisfied: requests>=2.7.0 in /opt/anaconda3/lib/python3.6/site-packages (from hdfs) (2.18.4)\n",
      "Requirement already satisfied: chardet<3.1.0,>=3.0.2 in /opt/anaconda3/lib/python3.6/site-packages (from requests>=2.7.0->hdfs) (3.0.4)\n",
      "Requirement already satisfied: idna<2.7,>=2.5 in /opt/anaconda3/lib/python3.6/site-packages (from requests>=2.7.0->hdfs) (2.6)\n",
      "Requirement already satisfied: urllib3<1.23,>=1.21.1 in /opt/anaconda3/lib/python3.6/site-packages (from requests>=2.7.0->hdfs) (1.22)\n",
      "Requirement already satisfied: certifi>=2017.4.17 in /opt/anaconda3/lib/python3.6/site-packages (from requests>=2.7.0->hdfs) (2019.11.28)\n",
      "Building wheels for collected packages: docopt\n",
      "  Building wheel for docopt (setup.py) ... \u001b[?25ldone\n",
      "\u001b[?25h  Created wheel for docopt: filename=docopt-0.6.2-py2.py3-none-any.whl size=13704 sha256=0317ab5e7721ecbb296160eb68e7e916c0e9ce6e1df2e150b35deb6a4474b7fd\n",
      "  Stored in directory: /root/.cache/pip/wheels/3f/2a/fa/4d7a888e69774d5e6e855d190a8a51b357d77cc05eb1c097c9\n",
      "Successfully built docopt\n",
      "Installing collected packages: docopt, hdfs\n",
      "Successfully installed docopt-0.6.2 hdfs-2.7.0\n"
     ]
    }
   ],
   "source": [
    "!pip install kaggle\n",
    "!pip install hdfs"
   ]
  },
  {
   "cell_type": "markdown",
   "metadata": {},
   "source": [
    "# Kaggle configuration, API Token"
   ]
  },
  {
   "cell_type": "code",
   "execution_count": 6,
   "metadata": {},
   "outputs": [],
   "source": [
    "import os\n",
    "base_path = \"/mnt/notebooks/Desafio1_FIAP\"\n",
    "os.environ[\"KAGGLE_CONFIG_DIR\"] = f'{base_path}/kaggle_config_dir/'\n",
    "!chmod 600 /mnt/notebooks/Desafio1_FIAP/kaggle_config_dir/kaggle.json"
   ]
  },
  {
   "cell_type": "markdown",
   "metadata": {},
   "source": [
    "# Download dataset files from Kaggle"
   ]
  },
  {
   "cell_type": "code",
   "execution_count": 3,
   "metadata": {},
   "outputs": [],
   "source": [
    "import kaggle\n",
    "kaggle.api.authenticate()\n",
    "\n",
    "kaggle.api.dataset_download_files('olistbr/brazilian-ecommerce', \n",
    "                                  path='/mnt/notebooks/Individual_Desafio1_FIAP/olist_dataset', \n",
    "                                  unzip=True)"
   ]
  },
  {
   "cell_type": "markdown",
   "metadata": {},
   "source": [
    "# Ingest dataset files to HDFS"
   ]
  },
  {
   "cell_type": "markdown",
   "metadata": {},
   "source": [
    "## Parâmetros de conexão"
   ]
  },
  {
   "cell_type": "code",
   "execution_count": 12,
   "metadata": {},
   "outputs": [],
   "source": [
    "import requests\n",
    "import os\n",
    "import pandas as pd \n",
    "import hdfs\n",
    "import urllib3\n",
    "\n",
    "from hdfs import InsecureClient\n",
    "from requests.adapters import HTTPAdapter\n",
    "from requests.packages.urllib3.util import Retry\n",
    "\n",
    "max_threads = 50\n",
    "session = requests.Session()\n",
    "\n",
    "retry_strategy = Retry(\n",
    "    total=10,\n",
    "    connect=10,\n",
    "    read=10,\n",
    "    redirect=10,\n",
    "    status_forcelist=[429, 500, 502, 503, 504],\n",
    "    method_whitelist=[\"HEAD\", \"GET\", \"OPTIONS\"],\n",
    ")\n",
    "\n",
    "adapter = HTTPAdapter(\n",
    "    max_retries=retry_strategy, pool_connections=max_threads, pool_maxsize=max_threads,\n",
    ")\n",
    "\n",
    "session.mount(\"https://\", adapter)\n",
    "session.mount(\"http://\", adapter)\n",
    "\n",
    "# client usando IP do host docker\n",
    "client = 'http://192.168.56.1:50070'\n",
    "\n",
    "# Client HDFS\n",
    "hdfs_client = InsecureClient(client, session=session)"
   ]
  },
  {
   "cell_type": "markdown",
   "metadata": {},
   "source": [
    "## Escrevendo na landing zone HDFS"
   ]
  },
  {
   "cell_type": "code",
   "execution_count": 23,
   "metadata": {},
   "outputs": [
    {
     "name": "stdout",
     "output_type": "stream",
     "text": [
      "customer_id                 object\n",
      "customer_unique_id          object\n",
      "customer_zip_code_prefix    object\n",
      "customer_city               object\n",
      "customer_state              object\n",
      "dtype: object\n",
      "olist_customers_dataset.csv Gravado com sucesso\n",
      "geolocation_zip_code_prefix     object\n",
      "geolocation_lat                float64\n",
      "geolocation_lng                float64\n",
      "geolocation_city                object\n",
      "geolocation_state               object\n",
      "dtype: object\n",
      "olist_geolocation_dataset.csv Gravado com sucesso\n",
      "olist_orders_dataset.csv Gravado com sucesso\n",
      "olist_order_items_dataset.csv Gravado com sucesso\n",
      "olist_order_payments_dataset.csv Gravado com sucesso\n",
      "olist_order_reviews_dataset.csv Gravado com sucesso\n",
      "olist_products_dataset.csv Gravado com sucesso\n",
      "seller_id                 object\n",
      "seller_zip_code_prefix    object\n",
      "seller_city               object\n",
      "seller_state              object\n",
      "dtype: object\n",
      "olist_sellers_dataset.csv Gravado com sucesso\n",
      "product_category_name_translation.csv Gravado com sucesso\n"
     ]
    }
   ],
   "source": [
    "# Gravar o arquivo csv no HDFS\n",
    "for filename in os.listdir(f'{base_path}/olist_dataset'):\n",
    "    if filename == 'olist_customers_dataset.csv':\n",
    "        df = pd.read_csv(f'{base_path}/olist_dataset/{filename}', sep =',', dtype={'customer_zip_code_prefix':'object'})\n",
    "    elif filename == 'olist_sellers_dataset.csv':\n",
    "        df = pd.read_csv(f'{base_path}/olist_dataset/{filename}', sep =',', dtype={'seller_zip_code_prefix':'object'})\n",
    "    elif filename == 'olist_geolocation_dataset.csv':\n",
    "        df = pd.read_csv(f'{base_path}/olist_dataset/{filename}', sep =',', dtype={'geolocation_zip_code_prefix':'object'})\n",
    "    else:\n",
    "        df = pd.read_csv(f'{base_path}/olist_dataset/{filename}', sep =',')\n",
    "    df.replace(to_replace=[r\"\\\\t|\\\\n|\\\\r\", \"\\t|\\n|\\r\"], value=[\"\",\"\"], regex=True, inplace=True)\n",
    "    try:\n",
    "        with hdfs_client.write(f'/datalake/landing_zone/{filename}', overwrite = True, encoding='utf-8') as writer:\n",
    "            df.to_csv(writer, header=True, index=False)\n",
    "        print(f\"{filename} Gravado com sucesso\")\n",
    "    except hdfs.util.HdfsError as e:\n",
    "        print(f\"{filename} falhou\")\n",
    "        print(f\"[ERRO] {e}\")\n",
    "    except urllib3.exceptions.NewConnectionError as e:\n",
    "        print(f\"{filename} falhou\")\n",
    "        print(f\"[ERRO] {e}\")\n",
    "    except Exception as e:\n",
    "        print(e)"
   ]
  },
  {
   "cell_type": "markdown",
   "metadata": {},
   "source": [
    "## Transformando arquivos de csv para orc"
   ]
  },
  {
   "cell_type": "code",
   "execution_count": 24,
   "metadata": {},
   "outputs": [],
   "source": [
    "from pyspark.sql import SparkSession\n",
    "\n",
    "spark = SparkSession \\\n",
    "    .builder \\\n",
    "    .appName(\"Ingest Olist Dataset\") \\\n",
    "    .getOrCreate()\n",
    "\n",
    "landing_zone = '/datalake/landing_zone/'\n",
    "files = hdfs_client.list(landing_zone)\n",
    "\n",
    "for filename in files:\n",
    "    csv = spark.read.csv(f'{landing_zone}/{filename}', header = True, sep = ',')\n",
    "    orc_name = filename.replace('csv', 'orc')\n",
    "    csv.write.orc(f'/datalake/dadosbrutos/{orc_name}', 'overwrite')\n",
    "    "
   ]
  }
 ],
 "metadata": {
  "kernelspec": {
   "display_name": "PySpark",
   "language": "python",
   "name": "pyspark"
  },
  "language_info": {
   "codemirror_mode": {
    "name": "ipython",
    "version": 3
   },
   "file_extension": ".py",
   "mimetype": "text/x-python",
   "name": "python",
   "nbconvert_exporter": "python",
   "pygments_lexer": "ipython3",
   "version": "3.6.10"
  }
 },
 "nbformat": 4,
 "nbformat_minor": 2
}

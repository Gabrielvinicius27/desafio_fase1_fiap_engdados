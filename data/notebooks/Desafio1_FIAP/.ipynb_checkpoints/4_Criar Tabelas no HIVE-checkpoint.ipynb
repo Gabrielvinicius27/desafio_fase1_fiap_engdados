{
 "cells": [
  {
   "cell_type": "code",
   "execution_count": 2,
   "metadata": {},
   "outputs": [
    {
     "name": "stdout",
     "output_type": "stream",
     "text": [
      "Requirement already satisfied: Jaydebeapi in c:\\python38\\lib\\site-packages (1.2.3)\n",
      "Requirement already satisfied: JPype1; python_version > \"2.7\" and platform_python_implementation != \"Jython\" in c:\\python38\\lib\\site-packages (from Jaydebeapi) (1.3.0)\n"
     ]
    },
    {
     "name": "stderr",
     "output_type": "stream",
     "text": [
      "WARNING: You are using pip version 20.2.4; however, version 22.0.4 is available.\n",
      "You should consider upgrading via the 'c:\\python38\\python.exe -m pip install --upgrade pip' command.\n"
     ]
    },
    {
     "name": "stdout",
     "output_type": "stream",
     "text": [
      "Requirement already satisfied: PyGithub in c:\\python38\\lib\\site-packages (1.55)\n",
      "Requirement already satisfied: requests>=2.14.0 in c:\\python38\\lib\\site-packages (from PyGithub) (2.24.0)\n",
      "Requirement already satisfied: deprecated in c:\\python38\\lib\\site-packages (from PyGithub) (1.2.13)\n",
      "Requirement already satisfied: pynacl>=1.4.0 in c:\\python38\\lib\\site-packages (from PyGithub) (1.5.0)\n",
      "Requirement already satisfied: pyjwt>=2.0 in c:\\python38\\lib\\site-packages (from PyGithub) (2.3.0)\n",
      "Requirement already satisfied: urllib3!=1.25.0,!=1.25.1,<1.26,>=1.21.1 in c:\\python38\\lib\\site-packages (from requests>=2.14.0->PyGithub) (1.25.10)\n",
      "Requirement already satisfied: certifi>=2017.4.17 in c:\\python38\\lib\\site-packages (from requests>=2.14.0->PyGithub) (2020.6.20)\n",
      "Requirement already satisfied: chardet<4,>=3.0.2 in c:\\python38\\lib\\site-packages (from requests>=2.14.0->PyGithub) (3.0.4)\n",
      "Requirement already satisfied: idna<3,>=2.5 in c:\\python38\\lib\\site-packages (from requests>=2.14.0->PyGithub) (2.10)\n",
      "Requirement already satisfied: wrapt<2,>=1.10 in c:\\python38\\lib\\site-packages (from deprecated->PyGithub) (1.12.1)\n",
      "Requirement already satisfied: cffi>=1.4.1 in c:\\users\\bruna\\appdata\\roaming\\python\\python38\\site-packages (from pynacl>=1.4.0->PyGithub) (1.15.0)\n",
      "Requirement already satisfied: pycparser in c:\\python38\\lib\\site-packages (from cffi>=1.4.1->pynacl>=1.4.0->PyGithub) (2.20)\n"
     ]
    },
    {
     "name": "stderr",
     "output_type": "stream",
     "text": [
      "WARNING: You are using pip version 20.2.4; however, version 22.0.4 is available.\n",
      "You should consider upgrading via the 'c:\\python38\\python.exe -m pip install --upgrade pip' command.\n"
     ]
    }
   ],
   "source": [
    "!pip install Jaydebeapi\n",
    "!pip install PyGithub"
   ]
  },
  {
   "cell_type": "markdown",
   "metadata": {},
   "source": [
    "## Fazer o download do Driver JDBC"
   ]
  },
  {
   "cell_type": "code",
   "execution_count": 1,
   "metadata": {},
   "outputs": [
    {
     "name": "stdout",
     "output_type": "stream",
     "text": [
      "hive-jdbc-uber-2.6.3.0-235.jar\n",
      "https://github.com/timveil/hive-jdbc-uber-jar/releases/download/v1.8-2.6.3/hive-jdbc-uber-2.6.3.0-235.jar\n"
     ]
    }
   ],
   "source": [
    "from github import Github\n",
    "import requests\n",
    "import os\n",
    "\n",
    "base_path = \"/mnt/notebooks/Individual_Desafio1_FIAP\"\n",
    "\n",
    "g = Github()\n",
    "asset = g.get_repo('timveil/hive-jdbc-uber-jar').get_latest_release().get_assets()[0]\n",
    "url = asset.browser_download_url\n",
    "print(asset.name)\n",
    "print(url)\n",
    "\n",
    "response = requests.get(url)\n",
    "open(f'{base_path}/driver/{asset.name}', 'wb').write(response.content)\n",
    "response.close()"
   ]
  },
  {
   "cell_type": "markdown",
   "metadata": {},
   "source": [
    "## Criar a tabela no HIVE"
   ]
  },
  {
   "cell_type": "code",
   "execution_count": 2,
   "metadata": {},
   "outputs": [
    {
     "data": {
      "text/plain": [
       "['.ipynb_checkpoints',\n",
       " '.kaggle',\n",
       " 'Create HIVE tables.ipynb',\n",
       " 'driver',\n",
       " 'Kaggle Dataset Ingestion to HDFS.ipynb',\n",
       " 'kaggle_config_dir',\n",
       " 'olist_dataset']"
      ]
     },
     "execution_count": 2,
     "metadata": {},
     "output_type": "execute_result"
    }
   ],
   "source": [
    "import jaydebeapi\n",
    "\n",
    "# Jar\n",
    "hivejar = f\"/mnt/notebooks/{asset.name}\"\n",
    "driver = \"org.apache.hive.jdbc.HiveDriver\"\n",
    "# JDBC connection string\n",
    "url=(\"jdbc:hive2://hive-server:10000/db_crimes\")\n",
    "\n",
    "#Connect to HiveServer2 \n",
    "conn = jaydebeapi.connect(jclassname=driver, url=url, jars=hivejar)\n",
    "cursor = conn.cursor()\n",
    "\n",
    "# Execute SQL query\n",
    "sql=\"\"\"\n",
    "DROP TABLE IF EXISTS db_crimes.crimes\n",
    "\"\"\"\n",
    "cursor.execute(sql)\n",
    "\n",
    "sql=\"\"\"\n",
    "CREATE TABLE IF NOT EXISTS db_crimes.crimes\n",
    "(\n",
    "file_number STRING,\n",
    "date_of_report TIMESTAMP,\n",
    "crime_date_time STRING,\n",
    "crime STRING,\n",
    "reporting_area INT,\n",
    "neighborhood STRING,\n",
    "location STRING)\n",
    "ROW FORMAT DELIMITED\n",
    "FIELDS TERMINATED BY ','\n",
    "\"\"\"\n",
    "cursor.execute(sql)\n",
    "    \n",
    "sql=\"\"\"\n",
    "LOAD DATA INPATH '/datalake/dadosbrutos/crimes.csv' INTO TABLE db_crimes.crimes\n",
    "\"\"\"\n",
    "cursor.execute(sql)\n",
    "\n",
    "sql=\"\"\"\n",
    "SELECT * FROM db_crimes.crimes LIMIT 5\n",
    "\"\"\"\n",
    "cursor.execute(sql)\n",
    "results = cursor.fetchall()\n",
    "print(results)"
   ]
  },
  {
   "cell_type": "code",
   "execution_count": null,
   "metadata": {},
   "outputs": [],
   "source": []
  }
 ],
 "metadata": {
  "interpreter": {
   "hash": "2db524e06e9f5f4ffedc911c917cb75e12dbc923643829bf417064a77eb14d37"
  },
  "kernelspec": {
   "display_name": "Python 3",
   "language": "python",
   "name": "python3"
  },
  "language_info": {
   "codemirror_mode": {
    "name": "ipython",
    "version": 3
   },
   "file_extension": ".py",
   "mimetype": "text/x-python",
   "name": "python",
   "nbconvert_exporter": "python",
   "pygments_lexer": "ipython3",
   "version": "3.6.10"
  }
 },
 "nbformat": 4,
 "nbformat_minor": 2
}

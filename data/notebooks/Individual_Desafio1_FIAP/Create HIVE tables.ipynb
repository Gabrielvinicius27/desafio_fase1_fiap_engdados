{
 "cells": [
  {
   "cell_type": "code",
   "execution_count": 2,
   "metadata": {},
   "outputs": [
    {
     "name": "stdout",
     "output_type": "stream",
     "text": [
      "Requirement already satisfied: Jaydebeapi in c:\\python38\\lib\\site-packages (1.2.3)\n",
      "Requirement already satisfied: JPype1; python_version > \"2.7\" and platform_python_implementation != \"Jython\" in c:\\python38\\lib\\site-packages (from Jaydebeapi) (1.3.0)\n"
     ]
    },
    {
     "name": "stderr",
     "output_type": "stream",
     "text": [
      "WARNING: You are using pip version 20.2.4; however, version 22.0.4 is available.\n",
      "You should consider upgrading via the 'c:\\python38\\python.exe -m pip install --upgrade pip' command.\n"
     ]
    },
    {
     "name": "stdout",
     "output_type": "stream",
     "text": [
      "Requirement already satisfied: PyGithub in c:\\python38\\lib\\site-packages (1.55)\n",
      "Requirement already satisfied: requests>=2.14.0 in c:\\python38\\lib\\site-packages (from PyGithub) (2.24.0)\n",
      "Requirement already satisfied: deprecated in c:\\python38\\lib\\site-packages (from PyGithub) (1.2.13)\n",
      "Requirement already satisfied: pynacl>=1.4.0 in c:\\python38\\lib\\site-packages (from PyGithub) (1.5.0)\n",
      "Requirement already satisfied: pyjwt>=2.0 in c:\\python38\\lib\\site-packages (from PyGithub) (2.3.0)\n",
      "Requirement already satisfied: urllib3!=1.25.0,!=1.25.1,<1.26,>=1.21.1 in c:\\python38\\lib\\site-packages (from requests>=2.14.0->PyGithub) (1.25.10)\n",
      "Requirement already satisfied: certifi>=2017.4.17 in c:\\python38\\lib\\site-packages (from requests>=2.14.0->PyGithub) (2020.6.20)\n",
      "Requirement already satisfied: chardet<4,>=3.0.2 in c:\\python38\\lib\\site-packages (from requests>=2.14.0->PyGithub) (3.0.4)\n",
      "Requirement already satisfied: idna<3,>=2.5 in c:\\python38\\lib\\site-packages (from requests>=2.14.0->PyGithub) (2.10)\n",
      "Requirement already satisfied: wrapt<2,>=1.10 in c:\\python38\\lib\\site-packages (from deprecated->PyGithub) (1.12.1)\n",
      "Requirement already satisfied: cffi>=1.4.1 in c:\\users\\bruna\\appdata\\roaming\\python\\python38\\site-packages (from pynacl>=1.4.0->PyGithub) (1.15.0)\n",
      "Requirement already satisfied: pycparser in c:\\python38\\lib\\site-packages (from cffi>=1.4.1->pynacl>=1.4.0->PyGithub) (2.20)\n"
     ]
    },
    {
     "name": "stderr",
     "output_type": "stream",
     "text": [
      "WARNING: You are using pip version 20.2.4; however, version 22.0.4 is available.\n",
      "You should consider upgrading via the 'c:\\python38\\python.exe -m pip install --upgrade pip' command.\n"
     ]
    }
   ],
   "source": [
    "!pip install Jaydebeapi\n",
    "!pip install PyGithub"
   ]
  },
  {
   "cell_type": "markdown",
   "metadata": {},
   "source": [
    "## Fazer o download do Driver JDBC"
   ]
  },
  {
   "cell_type": "code",
   "execution_count": 1,
   "metadata": {},
   "outputs": [
    {
     "name": "stdout",
     "output_type": "stream",
     "text": [
      "hive-jdbc-uber-2.6.3.0-235.jar\n",
      "https://github.com/timveil/hive-jdbc-uber-jar/releases/download/v1.8-2.6.3/hive-jdbc-uber-2.6.3.0-235.jar\n"
     ]
    }
   ],
   "source": [
    "from github import Github\n",
    "import requests\n",
    "import os\n",
    "\n",
    "base_path = \"/mnt/notebooks/Individual_Desafio1_FIAP\"\n",
    "\n",
    "g = Github()\n",
    "asset = g.get_repo('timveil/hive-jdbc-uber-jar').get_latest_release().get_assets()[0]\n",
    "url = asset.browser_download_url\n",
    "print(asset.name)\n",
    "print(url)\n",
    "\n",
    "response = requests.get(url)\n",
    "open(f'{base_path}/driver/{asset.name}', 'wb').write(response.content)\n",
    "SSresponse.close()"
   ]
  },
  {
   "cell_type": "markdown",
   "metadata": {},
   "source": [
    "## Criar a tabela no HIVE"
   ]
  },
  {
   "cell_type": "code",
   "execution_count": 7,
   "metadata": {},
   "outputs": [],
   "source": [
    "import jaydebeapi\n",
    "\n",
    "# Jar\n",
    "hivejar = f\"{base_path}/driver/{asset.name}\"\n",
    "driver = \"org.apache.hive.jdbc.HiveDriver\"\n",
    "database = \"db_olist\"\n",
    "# JDBC connection string\n",
    "url=(\"jdbc:hive2://hive-server:10000/db_olist\")\n",
    "dadosbrutos_folder = '/datalake/dadosbrutos'\n",
    "\n",
    "# Connect to HiveServer2 \n",
    "conn = jaydebeapi.connect(jclassname=driver, url=url, jars=hivejar)\n",
    "cursor = conn.cursor()\n",
    "\n",
    "# Tabelas que serão criadas\n",
    "tabelas = {'geolocation': f\"\"\"\n",
    "            CREATE EXTERNAL TABLE {database}.geolocation\n",
    "            (\n",
    "                geolocation_zip_code_prefix INT COMMENT '5 primeiros digitos do CEP.',\n",
    "                geolocation_lat DOUBLE COMMENT 'Latitude.',\n",
    "                geolocation_lng DOUBLE COMMENT 'Longitude.',\n",
    "                geolocation_city STRING COMMENT 'Cidade.',\n",
    "                geolocation_state STRING COMMENT 'Estado.'\n",
    "            ) COMMENT 'Tabela com CEPs brasileiros, e dados de geolocalização.'\n",
    "            STORED AS ORC\n",
    "            LOCATION '/datalake/dadosbrutos/olist_geolocation_dataset.orc/'\n",
    "            \"\"\",\n",
    "           \n",
    "           'customers': f\"\"\"\n",
    "            CREATE EXTERNAL TABLE {database}.customers\n",
    "            (\n",
    "                customer_id STRING COMMENT 'Chave para a tabela de ordens. Cada ordem tem um customer_id único.',\n",
    "                customer_unique_id STRING COMMENT 'Identificador único do cliente.',\n",
    "                customer_zip_code_prefix INT COMMENT 'Primeiros 5 digitos do CEP do cliente.',\n",
    "                customer_city STRING COMMENT 'Cidade do endereço do cliente.',\n",
    "                customer_state STRING COMMENT 'Estado do endereço do cliente.'\n",
    "            ) COMMENT 'Tabela com clientes e seus dados de geolocalização.'\n",
    "            STORED AS ORC\n",
    "            LOCATION '/datalake/dadosbrutos/olist_customers_dataset.orc/'\n",
    "            \"\"\",\n",
    "           \n",
    "           'order_items': f\"\"\"\n",
    "            CREATE EXTERNAL TABLE {database}.order_items\n",
    "            (\n",
    "                order_id STRING COMMENT 'Identificador único da ordem.',\n",
    "                order_item_id INT COMMENT 'Número sequencial identificando o número de itens incluídos na mesma ordem.',\n",
    "                product_id STRING COMMENT 'Identificador único do produto.',\n",
    "                seller_id STRING COMMENT 'Identificador único do vendedor.',\n",
    "                shipping_limit_date TIMESTAMP COMMENT 'Mostra a data limite de entrega do vendedor para o parceiro logístico.',\n",
    "                price DOUBLE COMMENT 'Preço do item.',\n",
    "                freight_value DOUBLE COMMENT 'Valor do frete do item (se um pedido tiver mais de um item o valor do frete é dividido entre os itens).'\n",
    "            ) COMMENT 'Tabela com dados dos itens comprados em uma ordem.'\n",
    "            STORED AS ORC\n",
    "            LOCATION '/datalake/dadosbrutos/olist_order_items_dataset.orc/'\n",
    "            \"\"\",\n",
    "           \n",
    "           'order_payments': f\"\"\"\n",
    "            CREATE EXTERNAL TABLE {database}.order_payments\n",
    "            (\n",
    "                order_id STRING COMMENT 'Identificador único da ordem.',\n",
    "                payment_sequential INT COMMENT 'Um cliente pode pagar uma ordem com mais de um método de pagamento, a coluna indica a sequencia',\n",
    "                payment_type STRING COMMENT 'Método de pagamento escolhido.',\n",
    "                payment_installments INT COMMENT 'Número de parcelas escolhidas pelo cliente.',\n",
    "                payment_value DOUBLE COMMENT 'Valor do pagamento.'\n",
    "            ) COMMENT 'Tabela com dados de pagamento da ordem.'\n",
    "            STORED AS ORC\n",
    "            LOCATION '/datalake/dadosbrutos/olist_order_payments_dataset.orc/'\n",
    "            \"\"\",\n",
    "           \n",
    "           'order_reviews': f\"\"\"\n",
    "            CREATE EXTERNAL TABLE {database}.order_reviews\n",
    "            (\n",
    "                review_id STRING COMMENT 'Identificador único do review.',\n",
    "                order_id STRING COMMENT 'Identificador único da ordem.',\n",
    "                review_score INTEGER COMMENT 'Nota de 1 a 5 dada pelo cliente na pesquisa de satisfação',\n",
    "                review_comment_title STRING COMMENT 'Título do comentário.',\n",
    "                review_comment_message STRING COMMENT 'Mensagem do comentário.',\n",
    "                review_creation_date TIMESTAMP COMMENT 'Data em que a pesquisa de satisfação foi envada.',\n",
    "                review_answer_timestamp TIMESTAMP COMMENT 'Data em que a pesquisa de satisfação foi respondida.'\n",
    "            ) COMMENT 'Tabela com dados dos reviews feitos pelos clientes.'\n",
    "            STORED AS ORC\n",
    "            LOCATION '/datalake/dadosbrutos/olist_order_reviews_dataset.orc/'\n",
    "            \"\"\",\n",
    "           \n",
    "           'orders': f\"\"\"\n",
    "            CREATE EXTERNAL TABLE {database}.orders\n",
    "            (\n",
    "                order_id STRING COMMENT 'Identificador único da ordem.',\n",
    "                customer_id STRING COMMENT 'Identificador único do cliente',\n",
    "                order_status STRING COMMENT 'Status da ordem (delivered, shipped, etc).',\n",
    "                order_purchase_timestamp TIMESTAMP COMMENT 'Data da compra.',\n",
    "                order_approved_at TIMESTAMP COMMENT 'Data de aprovação do pagamento.',\n",
    "                order_delivered_carrier_date TIMESTAMP COMMENT 'Data em que o produto foi entregue ao parceiro logístico.',\n",
    "                order_delivered_customer_date TIMESTAMP COMMENT 'Data em que o produto foi entregue ao cliente.',\n",
    "                order_estimated_delivery_date TIMESTAMP COMMENT 'Data de entrega estimada informada ao cliente no momento da compra.'\n",
    "            ) COMMENT 'Tabela com dados das ordens.'\n",
    "            STORED AS ORC\n",
    "            LOCATION '/datalake/dadosbrutos/olist_orders_dataset.orc/'\n",
    "            \"\"\",\n",
    "           \n",
    "           'products': f\"\"\"\n",
    "            CREATE EXTERNAL TABLE {database}.products\n",
    "            (\n",
    "                product_id STRING COMMENT 'Identificador único do produto.',\n",
    "                product_category_name STRING COMMENT 'Nome da categoria do produto.',\n",
    "                product_name_lenght DOUBLE COMMENT 'Número de caracteres extraídos do nome do produto.',\n",
    "                product_description_lenght DOUBLE COMMENT 'Número de caracteres extraídos da descrição do produto.',\n",
    "                product_photos_qty DOUBLE COMMENT 'Número de fotos publicadas do produto.',\n",
    "                product_weight_g DOUBLE COMMENT 'Peso do produto medido em gramas.',\n",
    "                product_length_cm DOUBLE COMMENT 'Comprimento do produto medido em centímetros.',\n",
    "                product_height_cm DOUBLE COMMENT 'Altura do produto medida em centímetros.',\n",
    "                product_width_cm DOUBLE COMMENT 'Largura do produto medida em centímetros.'\n",
    "            ) COMMENT 'Tabela com dados dos produtos.'\n",
    "            STORED AS ORC\n",
    "            LOCATION '/datalake/dadosbrutos/olist_products_dataset.orc/'\n",
    "            \"\"\",\n",
    "           \n",
    "           'sellers': f\"\"\"\n",
    "            CREATE EXTERNAL TABLE {database}.sellers\n",
    "            (\n",
    "                seller_id STRING COMMENT 'Identificador único do vendedor.',\n",
    "                seller_zip_code_prefix INT COMMENT '5 primeiros digitos do CEP do vendedor.',\n",
    "                seller_city STRING COMMENT 'Cidade do endereço do vendedor.',\n",
    "                seller_state STRING COMMENT 'Estado do endereço do vendedor.'\n",
    "            ) COMMENT 'Tabela com dados dos vendedores.'\n",
    "            STORED AS ORC\n",
    "            LOCATION '/datalake/dadosbrutos/olist_sellers_dataset.orc/'\n",
    "            \"\"\",\n",
    "           \n",
    "           'product_category_name_translation': f\"\"\"\n",
    "            CREATE EXTERNAL TABLE {database}.product_category_name_translation\n",
    "            (\n",
    "                product_category_name STRING COMMENT 'Nome da categoria do produto em português .',\n",
    "                product_category_name_english STRING COMMENT 'Nome da categoria do produto em inglês .'\n",
    "            ) COMMENT 'Tabela de tradução do nome da categoria do produto.'\n",
    "            STORED AS ORC\n",
    "            LOCATION '/datalake/dadosbrutos/product_category_name_translation.orc/'\n",
    "            \"\"\",\n",
    "          }\n",
    "\n",
    "\n",
    "for item in tabelas:\n",
    "    # Dropar tabela caso ela já existir\n",
    "    sql = f\"\"\"\n",
    "        DROP TABLE IF EXISTS {database}.{item}\n",
    "    \"\"\"\n",
    "    cursor.execute(sql)\n",
    "    # Criar a tabela\n",
    "    query = tabelas[item].strip('\\n').strip('\\t')\n",
    "    sql = query\n",
    "    cursor.execute(sql)\n",
    "    "
   ]
  }
 ],
 "metadata": {
  "interpreter": {
   "hash": "2db524e06e9f5f4ffedc911c917cb75e12dbc923643829bf417064a77eb14d37"
  },
  "kernelspec": {
   "display_name": "PySpark",
   "language": "python",
   "name": "pyspark"
  },
  "language_info": {
   "codemirror_mode": {
    "name": "ipython",
    "version": 3
   },
   "file_extension": ".py",
   "mimetype": "text/x-python",
   "name": "python",
   "nbconvert_exporter": "python",
   "pygments_lexer": "ipython3",
   "version": "3.6.10"
  }
 },
 "nbformat": 4,
 "nbformat_minor": 2
}

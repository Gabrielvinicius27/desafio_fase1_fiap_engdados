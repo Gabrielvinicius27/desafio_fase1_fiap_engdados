{
 "cells": [
  {
   "cell_type": "code",
   "execution_count": 5,
   "metadata": {},
   "outputs": [
    {
     "name": "stdout",
     "output_type": "stream",
     "text": [
      "Collecting kaggle\n",
      "  Downloading kaggle-1.5.12.tar.gz (58 kB)\n",
      "\u001b[K     |████████████████████████████████| 58 kB 3.1 MB/s eta 0:00:011\n",
      "\u001b[?25hRequirement already satisfied: six>=1.10 in /opt/anaconda3/lib/python3.6/site-packages (from kaggle) (1.14.0)\n",
      "Requirement already satisfied: certifi in /opt/anaconda3/lib/python3.6/site-packages (from kaggle) (2019.11.28)\n",
      "Requirement already satisfied: python-dateutil in /opt/anaconda3/lib/python3.6/site-packages (from kaggle) (2.8.1)\n",
      "Requirement already satisfied: requests in /opt/anaconda3/lib/python3.6/site-packages (from kaggle) (2.18.4)\n",
      "Collecting tqdm\n",
      "  Downloading tqdm-4.63.1-py2.py3-none-any.whl (76 kB)\n",
      "\u001b[K     |████████████████████████████████| 76 kB 4.0 MB/s  eta 0:00:01\n",
      "\u001b[?25hCollecting python-slugify\n",
      "  Downloading python_slugify-6.1.1-py2.py3-none-any.whl (9.1 kB)\n",
      "Requirement already satisfied: urllib3 in /opt/anaconda3/lib/python3.6/site-packages (from kaggle) (1.22)\n",
      "Requirement already satisfied: chardet<3.1.0,>=3.0.2 in /opt/anaconda3/lib/python3.6/site-packages (from requests->kaggle) (3.0.4)\n",
      "Requirement already satisfied: idna<2.7,>=2.5 in /opt/anaconda3/lib/python3.6/site-packages (from requests->kaggle) (2.6)\n",
      "Collecting importlib-resources; python_version < \"3.7\"\n",
      "  Downloading importlib_resources-5.4.0-py3-none-any.whl (28 kB)\n",
      "Collecting text-unidecode>=1.3\n",
      "  Downloading text_unidecode-1.3-py2.py3-none-any.whl (78 kB)\n",
      "\u001b[K     |████████████████████████████████| 78 kB 5.5 MB/s  eta 0:00:01\n",
      "\u001b[?25hCollecting zipp>=3.1.0; python_version < \"3.10\"\n",
      "  Downloading zipp-3.6.0-py3-none-any.whl (5.3 kB)\n",
      "Building wheels for collected packages: kaggle\n",
      "  Building wheel for kaggle (setup.py) ... \u001b[?25ldone\n",
      "\u001b[?25h  Created wheel for kaggle: filename=kaggle-1.5.12-py3-none-any.whl size=73053 sha256=b68cc4d6b216d4c32c0dfbe376d2305128ee758a5edc03630f0f4664ce56c880\n",
      "  Stored in directory: /root/.cache/pip/wheels/77/47/e4/44a4ba1b7dfd53faaa35f59f1175e123b213ff401a8a56876b\n",
      "Successfully built kaggle\n",
      "Installing collected packages: zipp, importlib-resources, tqdm, text-unidecode, python-slugify, kaggle\n",
      "Successfully installed importlib-resources-5.4.0 kaggle-1.5.12 python-slugify-6.1.1 text-unidecode-1.3 tqdm-4.63.1 zipp-3.6.0\n"
     ]
    }
   ],
   "source": [
    "!pip install kaggle\n",
    "!pip install hdfs"
   ]
  },
  {
   "cell_type": "markdown",
   "metadata": {},
   "source": [
    "# Kaggle configuration, API Token"
   ]
  },
  {
   "cell_type": "code",
   "execution_count": 5,
   "metadata": {},
   "outputs": [],
   "source": [
    "import os\n",
    "base_path = \"/mnt/notebooks/Individual_Desafio1_FIAP\"\n",
    "os.environ[\"KAGGLE_CONFIG_DIR\"] = f'{base_path}/kaggle_config_dir/'\n",
    "!chmod 600 /mnt/notebooks/Individual_Desafio1_FIAP/kaggle_config_dir/kaggle.json"
   ]
  },
  {
   "cell_type": "markdown",
   "metadata": {},
   "source": [
    "# Download dataset files from Kaggle"
   ]
  },
  {
   "cell_type": "code",
   "execution_count": 3,
   "metadata": {},
   "outputs": [],
   "source": [
    "import kaggle\n",
    "kaggle.api.authenticate()\n",
    "\n",
    "kaggle.api.dataset_download_files('olistbr/brazilian-ecommerce', \n",
    "                                  path='/mnt/notebooks/Individual_Desafio1_FIAP/olist_dataset', \n",
    "                                  unzip=True)"
   ]
  },
  {
   "cell_type": "markdown",
   "metadata": {},
   "source": [
    "# Ingest dataset files to HDFS"
   ]
  },
  {
   "cell_type": "markdown",
   "metadata": {},
   "source": [
    "## Parâmetros de conexão"
   ]
  },
  {
   "cell_type": "code",
   "execution_count": 4,
   "metadata": {},
   "outputs": [],
   "source": [
    "import requests\n",
    "import os\n",
    "import pandas as pd \n",
    "import hdfs\n",
    "import urllib3\n",
    "\n",
    "from hdfs import InsecureClient\n",
    "from requests.adapters import HTTPAdapter\n",
    "from requests.packages.urllib3.util import Retry\n",
    "\n",
    "max_threads = 50\n",
    "session = requests.Session()\n",
    "\n",
    "retry_strategy = Retry(\n",
    "    total=10,\n",
    "    connect=10,\n",
    "    read=10,\n",
    "    redirect=10,\n",
    "    status_forcelist=[429, 500, 502, 503, 504],\n",
    "    method_whitelist=[\"HEAD\", \"GET\", \"OPTIONS\"],\n",
    ")\n",
    "\n",
    "adapter = HTTPAdapter(\n",
    "    max_retries=retry_strategy, pool_connections=max_threads, pool_maxsize=max_threads,\n",
    ")\n",
    "\n",
    "session.mount(\"https://\", adapter)\n",
    "session.mount(\"http://\", adapter)\n",
    "\n",
    "# client usando IP do host docker\n",
    "client = 'http://192.168.56.1:50070'\n",
    "\n",
    "# Client HDFS\n",
    "hdfs_client = InsecureClient(client, session=session)"
   ]
  },
  {
   "cell_type": "markdown",
   "metadata": {},
   "source": [
    "## Escrevendo na landing zone HDFS"
   ]
  },
  {
   "cell_type": "code",
   "execution_count": 17,
   "metadata": {},
   "outputs": [
    {
     "name": "stdout",
     "output_type": "stream",
     "text": [
      "olist_customers_dataset.csv Gravado com sucesso\n",
      "olist_geolocation_dataset.csv Gravado com sucesso\n",
      "olist_orders_dataset.csv Gravado com sucesso\n",
      "olist_order_items_dataset.csv Gravado com sucesso\n",
      "olist_order_payments_dataset.csv Gravado com sucesso\n",
      "olist_order_reviews_dataset.csv Gravado com sucesso\n",
      "olist_products_dataset.csv Gravado com sucesso\n",
      "olist_sellers_dataset.csv Gravado com sucesso\n",
      "product_category_name_translation.csv Gravado com sucesso\n"
     ]
    }
   ],
   "source": [
    "# Gravar o arquivo csv no HDFS\n",
    "for filename in os.listdir(f'{base_path}/olist_dataset'):\n",
    "    df = pd.read_csv(f'{base_path}/olist_dataset/{filename}')\n",
    "    try:\n",
    "        with hdfs_client.write(f'/datalake/landing_zone/{filename}', overwrite = True, encoding='utf-8') as writer:\n",
    "            df.to_csv(writer, header=False, index=False)\n",
    "        print(f\"{filename} Gravado com sucesso\")\n",
    "    except hdfs.util.HdfsError as e:\n",
    "        print(f\"{filename} falhou\")\n",
    "        print(f\"[ERRO] {e}\")\n",
    "    except urllib3.exceptions.NewConnectionError as e:\n",
    "        print(f\"{filename} falhou\")\n",
    "        print(f\"[ERRO] {e}\")"
   ]
  },
  {
   "cell_type": "markdown",
   "metadata": {},
   "source": [
    "## Transformando arquivos de csv para orc"
   ]
  },
  {
   "cell_type": "code",
   "execution_count": 23,
   "metadata": {},
   "outputs": [],
   "source": [
    "from pyspark.sql import SparkSession\n",
    "\n",
    "spark = SparkSession \\\n",
    "    .builder \\\n",
    "    .appName(\"Ingest Olist Dataset\") \\\n",
    "    .getOrCreate()\n",
    "\n",
    "landing_zone = '/datalake/landing_zone/'\n",
    "files = hdfs_client.list(landing_zone)\n",
    "\n",
    "for filename in files:\n",
    "    csv = spark.read.csv(f'{landing_zone}/{filename}')\n",
    "    orc_name = filename.replace('csv', 'orc')\n",
    "    csv.write.orc(f'/datalake/dadosbrutos/{orc_name}')\n",
    "    "
   ]
  }
 ],
 "metadata": {
  "kernelspec": {
   "display_name": "PySpark",
   "language": "python",
   "name": "pyspark"
  },
  "language_info": {
   "codemirror_mode": {
    "name": "ipython",
    "version": 3
   },
   "file_extension": ".py",
   "mimetype": "text/x-python",
   "name": "python",
   "nbconvert_exporter": "python",
   "pygments_lexer": "ipython3",
   "version": "3.6.10"
  }
 },
 "nbformat": 4,
 "nbformat_minor": 2
}

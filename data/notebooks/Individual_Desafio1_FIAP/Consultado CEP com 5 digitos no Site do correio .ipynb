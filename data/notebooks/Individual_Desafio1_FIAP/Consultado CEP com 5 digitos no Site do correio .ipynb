{
 "cells": [
  {
   "cell_type": "markdown",
   "metadata": {},
   "source": [
    "## Instalando as bibliotecas"
   ]
  },
  {
   "cell_type": "code",
   "execution_count": null,
   "metadata": {},
   "outputs": [],
   "source": [
    "!pip install pycep-correios\n",
    "!pip install nest_asyncio"
   ]
  },
  {
   "cell_type": "markdown",
   "metadata": {},
   "source": [
    "## Lendo a tabela geolocation do HIVE"
   ]
  },
  {
   "cell_type": "code",
   "execution_count": null,
   "metadata": {},
   "outputs": [],
   "source": [
    "from pyspark.sql import SparkSession\n",
    "from pyspark.sql import HiveContext\n",
    "\n",
    "hive_context = HiveContext(sc)\n",
    "\n",
    "spark = SparkSession \\\n",
    "    .builder \\\n",
    "    .appName(\"Teste API\") \\\n",
    "    .enableHiveSupport() \\\n",
    "    .getOrCreate()\n",
    "\n",
    "geo = spark.read.orc('/datalake/dadosbrutos/olist_geolocation_dataset.orc')"
   ]
  },
  {
   "cell_type": "markdown",
   "metadata": {},
   "source": [
    "## Carregando os CEPs distintos em uma lista"
   ]
  },
  {
   "cell_type": "code",
   "execution_count": null,
   "metadata": {},
   "outputs": [],
   "source": [
    "cep_array = [str(row.geolocation_zip_code_prefix) for row in geo.select('geolocation_zip_code_prefix').distinct().collect()]"
   ]
  },
  {
   "cell_type": "markdown",
   "metadata": {},
   "source": [
    "## Consultando CEPs no site do Correios com apenas os 5 primeiros digitos\n",
    "* Usando a API pycep conseguimos consultar apenas com o CEP completo, 8 digitos\n",
    "* Consultando direto no site do Correios conseguimos consultar com 5 digitos e descobrir a cidade e estado do CEP"
   ]
  },
  {
   "cell_type": "code",
   "execution_count": null,
   "metadata": {},
   "outputs": [],
   "source": [
    "import asyncio\n",
    "import time\n",
    "import aiohttp\n",
    "import nest_asyncio\n",
    "import pandas as pd\n",
    "\n",
    "global results\n",
    "results = []\n",
    "global URL\n",
    "# URL do site do correios\n",
    "URL = 'https://buscacepinter.correios.com.br/app/endereco/carrega-cep-endereco.php'\n",
    "\n",
    "# Função para pegar o primeiro resultado da pesquisa de CEP com apenas 5 digitos\n",
    "async def get_address(session, cep):\n",
    "    async with session.post(url=URL, data={'endereco': cep, 'tipoCEP': 'ALL'}) as response:\n",
    "        response = await response.text()\n",
    "        try:\n",
    "            if json.loads(response)[\"dados\"][0][\"cep\"] != '': \n",
    "                results.append(json.loads(response)[\"dados\"][0])\n",
    "                print(len(results), end=\"\\r\")\n",
    "        except:\n",
    "            pass\n",
    "\n",
    "# Função para criar as tasks assíncronas, uma task para cada cep\n",
    "async def get_all_addresses(ceps):\n",
    "    async with aiohttp.ClientSession() as session:\n",
    "        tasks = []\n",
    "        for cep in ceps:\n",
    "            task = asyncio.ensure_future(get_address(session, cep))\n",
    "            tasks.append(task)\n",
    "        await asyncio.gather(*tasks, return_exceptions=False)\n",
    "        \n",
    "\n",
    "# Função prncipal para iniciar o loop assíncrono e criar o Dataframe com os resultados\n",
    "if __name__ == \"__main__\":\n",
    "    nest_asyncio.apply()\n",
    "    start_time = time.time()\n",
    "    ceps_array = cep_array\n",
    "    asyncio.get_event_loop().run_until_complete(get_all_addresses(ceps_array))\n",
    "    \n",
    "    df = pd.DataFrame(results)\n",
    "    df = df[['cep','localidade','uf']]\n",
    "    \n",
    "    duration = time.time() - start_time\n",
    "    print(f\"Downloaded {len(ceps_array)} ceps in {duration} seconds\")\n",
    "\n",
    "df.head(100)"
   ]
  }
 ],
 "metadata": {
  "kernelspec": {
   "display_name": "PySpark",
   "language": "python",
   "name": "pyspark"
  },
  "language_info": {
   "codemirror_mode": {
    "name": "ipython",
    "version": 3
   },
   "file_extension": ".py",
   "mimetype": "text/x-python",
   "name": "python",
   "nbconvert_exporter": "python",
   "pygments_lexer": "ipython3",
   "version": "3.6.10"
  }
 },
 "nbformat": 4,
 "nbformat_minor": 2
}

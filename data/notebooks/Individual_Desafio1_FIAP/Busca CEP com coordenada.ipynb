{
 "cells": [
  {
   "cell_type": "code",
   "execution_count": 1,
   "metadata": {},
   "outputs": [],
   "source": [
    "from geopy.geocoders import Nominatim\n",
    "import pandas as pd"
   ]
  },
  {
   "cell_type": "code",
   "execution_count": 2,
   "metadata": {},
   "outputs": [],
   "source": [
    "from pyspark.sql import SparkSession\n",
    "from pyspark.sql import HiveContext\n",
    "\n",
    "hive_context = HiveContext(sc)\n",
    "\n",
    "spark = SparkSession \\\n",
    "    .builder \\\n",
    "    .appName(\"Teste API\") \\\n",
    "    .enableHiveSupport() \\\n",
    "    .getOrCreate()\n",
    "\n",
    "geo = spark.read.orc('/datalake/dadosbrutos/olist_geolocation_dataset.orc')"
   ]
  },
  {
   "cell_type": "code",
   "execution_count": 3,
   "metadata": {},
   "outputs": [],
   "source": [
    "coord_array = [[str(row.geolocation_lat), str(row.geolocation_lng)] \n",
    "             for row in geo.select('geolocation_lat', 'geolocation_lng').distinct().collect()]"
   ]
  },
  {
   "cell_type": "code",
   "execution_count": 8,
   "metadata": {},
   "outputs": [],
   "source": [
    "def extrai_cep(coord, counter):\n",
    "    print(f\"{counter}º chamada, coordenadas: {coord}\", end =\"\\r\")\n",
    "    \n",
    "    geolocator = Nominatim(user_agent=\"test_app\")\n",
    "    location = geolocator.reverse(coord) \n",
    "    try:\n",
    "        return({\"cep\":location.raw['address']['postcode'], \n",
    "                \"lat\":coord[0], \n",
    "                \"lng\":coord[1]})\n",
    "    except:\n",
    "        pass"
   ]
  },
  {
   "cell_type": "code",
   "execution_count": 12,
   "metadata": {},
   "outputs": [
    {
     "name": "stdout",
     "output_type": "stream",
     "text": [
      "1999º chamada, coordenadas: ['-23.622594736886143', '-46.780272623780995']\n",
      " Tempo: 26.85259677171707 minutos\n",
      "Nao encontrados: 253\n"
     ]
    }
   ],
   "source": [
    "location_list = []\n",
    "limit = 2000\n",
    "counter = 0\n",
    "none_results = 0 \n",
    "import time\n",
    "\n",
    "start = time.time()\n",
    "\n",
    "for item in coord_array:\n",
    "    cep = extrai_cep(item, counter)\n",
    "    if cep == None:\n",
    "        none_results += 1\n",
    "    else:\n",
    "        location_list.append(cep)\n",
    "        counter += 1\n",
    "    if counter == limit: break\n",
    "        \n",
    "df = pd.DataFrame(location_list)\n",
    "df = df.drop_duplicates()\n",
    "df.head(100)\n",
    "\n",
    "end = time.time()\n",
    "tempo = (end - start)/60\n",
    "print(f\"\\nTempo: {tempo} minutos\")\n",
    "print(f\"Nao encontrados: {none_results}\")"
   ]
  },
  {
   "cell_type": "code",
   "execution_count": 13,
   "metadata": {},
   "outputs": [
    {
     "data": {
      "text/html": [
       "<div>\n",
       "<style scoped>\n",
       "    .dataframe tbody tr th:only-of-type {\n",
       "        vertical-align: middle;\n",
       "    }\n",
       "\n",
       "    .dataframe tbody tr th {\n",
       "        vertical-align: top;\n",
       "    }\n",
       "\n",
       "    .dataframe thead th {\n",
       "        text-align: right;\n",
       "    }\n",
       "</style>\n",
       "<table border=\"1\" class=\"dataframe\">\n",
       "  <thead>\n",
       "    <tr style=\"text-align: right;\">\n",
       "      <th></th>\n",
       "      <th>cep</th>\n",
       "      <th>lat</th>\n",
       "      <th>lng</th>\n",
       "    </tr>\n",
       "  </thead>\n",
       "  <tbody>\n",
       "    <tr>\n",
       "      <th>0</th>\n",
       "      <td>12280-015</td>\n",
       "      <td>-23.086135110739242</td>\n",
       "      <td>-45.689912093946575</td>\n",
       "    </tr>\n",
       "    <tr>\n",
       "      <th>1</th>\n",
       "      <td>12246-140</td>\n",
       "      <td>-23.217447205118503</td>\n",
       "      <td>-45.90768709991921</td>\n",
       "    </tr>\n",
       "    <tr>\n",
       "      <th>2</th>\n",
       "      <td>12236-160</td>\n",
       "      <td>-23.248120899830894</td>\n",
       "      <td>-45.89728759763259</td>\n",
       "    </tr>\n",
       "    <tr>\n",
       "      <th>3</th>\n",
       "      <td>12231-140</td>\n",
       "      <td>-23.21138053566277</td>\n",
       "      <td>-45.88524183374691</td>\n",
       "    </tr>\n",
       "    <tr>\n",
       "      <th>4</th>\n",
       "      <td>12232-841</td>\n",
       "      <td>-23.28743618235325</td>\n",
       "      <td>-45.89000442062436</td>\n",
       "    </tr>\n",
       "    <tr>\n",
       "      <th>...</th>\n",
       "      <td>...</td>\n",
       "      <td>...</td>\n",
       "      <td>...</td>\n",
       "    </tr>\n",
       "    <tr>\n",
       "      <th>95</th>\n",
       "      <td>13219-630</td>\n",
       "      <td>-23.170269614328607</td>\n",
       "      <td>-46.84436622055807</td>\n",
       "    </tr>\n",
       "    <tr>\n",
       "      <th>96</th>\n",
       "      <td>13224-430</td>\n",
       "      <td>-23.215001079922637</td>\n",
       "      <td>-46.83430924939157</td>\n",
       "    </tr>\n",
       "    <tr>\n",
       "      <th>97</th>\n",
       "      <td>13211-534</td>\n",
       "      <td>-23.20905371798737</td>\n",
       "      <td>-46.90959302567946</td>\n",
       "    </tr>\n",
       "    <tr>\n",
       "      <th>98</th>\n",
       "      <td>13271570</td>\n",
       "      <td>-22.987338658148907</td>\n",
       "      <td>-47.012867692334005</td>\n",
       "    </tr>\n",
       "    <tr>\n",
       "      <th>99</th>\n",
       "      <td>13206105</td>\n",
       "      <td>-23.214166071614013</td>\n",
       "      <td>-46.87501409394657</td>\n",
       "    </tr>\n",
       "  </tbody>\n",
       "</table>\n",
       "<p>100 rows × 3 columns</p>\n",
       "</div>"
      ],
      "text/plain": [
       "          cep                  lat                  lng\n",
       "0   12280-015  -23.086135110739242  -45.689912093946575\n",
       "1   12246-140  -23.217447205118503   -45.90768709991921\n",
       "2   12236-160  -23.248120899830894   -45.89728759763259\n",
       "3   12231-140   -23.21138053566277   -45.88524183374691\n",
       "4   12232-841   -23.28743618235325   -45.89000442062436\n",
       "..        ...                  ...                  ...\n",
       "95  13219-630  -23.170269614328607   -46.84436622055807\n",
       "96  13224-430  -23.215001079922637   -46.83430924939157\n",
       "97  13211-534   -23.20905371798737   -46.90959302567946\n",
       "98   13271570  -22.987338658148907  -47.012867692334005\n",
       "99   13206105  -23.214166071614013   -46.87501409394657\n",
       "\n",
       "[100 rows x 3 columns]"
      ]
     },
     "execution_count": 13,
     "metadata": {},
     "output_type": "execute_result"
    }
   ],
   "source": [
    "df.head(100)"
   ]
  },
  {
   "cell_type": "code",
   "execution_count": 14,
   "metadata": {},
   "outputs": [
    {
     "data": {
      "text/plain": [
       "cep    2000\n",
       "lat    2000\n",
       "lng    2000\n",
       "dtype: int64"
      ]
     },
     "execution_count": 14,
     "metadata": {},
     "output_type": "execute_result"
    }
   ],
   "source": [
    "df.count()"
   ]
  }
 ],
 "metadata": {
  "kernelspec": {
   "display_name": "PySpark",
   "language": "python",
   "name": "pyspark"
  },
  "language_info": {
   "codemirror_mode": {
    "name": "ipython",
    "version": 3
   },
   "file_extension": ".py",
   "mimetype": "text/x-python",
   "name": "python",
   "nbconvert_exporter": "python",
   "pygments_lexer": "ipython3",
   "version": "3.6.10"
  }
 },
 "nbformat": 4,
 "nbformat_minor": 2
}

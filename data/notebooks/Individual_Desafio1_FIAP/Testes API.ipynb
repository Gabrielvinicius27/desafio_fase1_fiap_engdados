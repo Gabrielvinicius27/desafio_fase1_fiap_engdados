{
 "cells": [
  {
   "cell_type": "code",
   "execution_count": 143,
   "metadata": {},
   "outputs": [
    {
     "name": "stdout",
     "output_type": "stream",
     "text": [
      "Requirement already satisfied: pycep-correios in /opt/anaconda3/lib/python3.6/site-packages (5.0.0)\n",
      "Requirement already satisfied: zeep>=2.0.0 in /opt/anaconda3/lib/python3.6/site-packages (from pycep-correios) (4.1.0)\n",
      "Requirement already satisfied: requests>=2.7.0 in /opt/anaconda3/lib/python3.6/site-packages (from pycep-correios) (2.18.4)\n",
      "Requirement already satisfied: attrs>=17.2.0 in /opt/anaconda3/lib/python3.6/site-packages (from zeep>=2.0.0->pycep-correios) (18.1.0)\n",
      "Requirement already satisfied: isodate>=0.5.4 in /opt/anaconda3/lib/python3.6/site-packages (from zeep>=2.0.0->pycep-correios) (0.6.1)\n",
      "Requirement already satisfied: cached-property>=1.3.0 in /opt/anaconda3/lib/python3.6/site-packages (from zeep>=2.0.0->pycep-correios) (1.5.2)\n",
      "Requirement already satisfied: lxml>=4.6.0 in /opt/anaconda3/lib/python3.6/site-packages (from zeep>=2.0.0->pycep-correios) (4.8.0)\n",
      "Requirement already satisfied: pytz in /opt/anaconda3/lib/python3.6/site-packages (from zeep>=2.0.0->pycep-correios) (2019.3)\n",
      "Requirement already satisfied: requests-file>=1.5.1 in /opt/anaconda3/lib/python3.6/site-packages (from zeep>=2.0.0->pycep-correios) (1.5.1)\n",
      "Requirement already satisfied: requests-toolbelt>=0.7.1 in /opt/anaconda3/lib/python3.6/site-packages (from zeep>=2.0.0->pycep-correios) (0.9.1)\n",
      "Requirement already satisfied: platformdirs>=1.4.0 in /opt/anaconda3/lib/python3.6/site-packages (from zeep>=2.0.0->pycep-correios) (2.4.0)\n",
      "Requirement already satisfied: chardet<3.1.0,>=3.0.2 in /opt/anaconda3/lib/python3.6/site-packages (from requests>=2.7.0->pycep-correios) (3.0.4)\n",
      "Requirement already satisfied: idna<2.7,>=2.5 in /opt/anaconda3/lib/python3.6/site-packages (from requests>=2.7.0->pycep-correios) (2.6)\n",
      "Requirement already satisfied: urllib3<1.23,>=1.21.1 in /opt/anaconda3/lib/python3.6/site-packages (from requests>=2.7.0->pycep-correios) (1.22)\n",
      "Requirement already satisfied: certifi>=2017.4.17 in /opt/anaconda3/lib/python3.6/site-packages (from requests>=2.7.0->pycep-correios) (2019.11.28)\n",
      "Requirement already satisfied: six in /opt/anaconda3/lib/python3.6/site-packages (from isodate>=0.5.4->zeep>=2.0.0->pycep-correios) (1.14.0)\n",
      "Requirement already satisfied: nest_asyncio in /opt/anaconda3/lib/python3.6/site-packages (1.5.5)\n",
      "Requirement already satisfied: geopy[aiohttp] in /opt/anaconda3/lib/python3.6/site-packages (2.2.0)\n",
      "Requirement already satisfied: geographiclib<2,>=1.49 in /opt/anaconda3/lib/python3.6/site-packages (from geopy[aiohttp]) (1.52)\n",
      "Requirement already satisfied: aiohttp; extra == \"aiohttp\" in /opt/anaconda3/lib/python3.6/site-packages (from geopy[aiohttp]) (3.8.1)\n",
      "Requirement already satisfied: multidict<7.0,>=4.5 in /opt/anaconda3/lib/python3.6/site-packages (from aiohttp; extra == \"aiohttp\"->geopy[aiohttp]) (5.2.0)\n",
      "Requirement already satisfied: yarl<2.0,>=1.0 in /opt/anaconda3/lib/python3.6/site-packages (from aiohttp; extra == \"aiohttp\"->geopy[aiohttp]) (1.7.2)\n",
      "Requirement already satisfied: async-timeout<5.0,>=4.0.0a3 in /opt/anaconda3/lib/python3.6/site-packages (from aiohttp; extra == \"aiohttp\"->geopy[aiohttp]) (4.0.2)\n",
      "Requirement already satisfied: typing-extensions>=3.7.4; python_version < \"3.8\" in /opt/anaconda3/lib/python3.6/site-packages (from aiohttp; extra == \"aiohttp\"->geopy[aiohttp]) (4.1.1)\n",
      "Requirement already satisfied: attrs>=17.3.0 in /opt/anaconda3/lib/python3.6/site-packages (from aiohttp; extra == \"aiohttp\"->geopy[aiohttp]) (18.1.0)\n",
      "Requirement already satisfied: asynctest==0.13.0; python_version < \"3.8\" in /opt/anaconda3/lib/python3.6/site-packages (from aiohttp; extra == \"aiohttp\"->geopy[aiohttp]) (0.13.0)\n",
      "Requirement already satisfied: aiosignal>=1.1.2 in /opt/anaconda3/lib/python3.6/site-packages (from aiohttp; extra == \"aiohttp\"->geopy[aiohttp]) (1.2.0)\n",
      "Requirement already satisfied: charset-normalizer<3.0,>=2.0 in /opt/anaconda3/lib/python3.6/site-packages (from aiohttp; extra == \"aiohttp\"->geopy[aiohttp]) (2.0.12)\n",
      "Requirement already satisfied: frozenlist>=1.1.1 in /opt/anaconda3/lib/python3.6/site-packages (from aiohttp; extra == \"aiohttp\"->geopy[aiohttp]) (1.2.0)\n",
      "Requirement already satisfied: idna-ssl>=1.0; python_version < \"3.7\" in /opt/anaconda3/lib/python3.6/site-packages (from aiohttp; extra == \"aiohttp\"->geopy[aiohttp]) (1.1.0)\n",
      "Requirement already satisfied: idna>=2.0 in /opt/anaconda3/lib/python3.6/site-packages (from yarl<2.0,>=1.0->aiohttp; extra == \"aiohttp\"->geopy[aiohttp]) (2.6)\n",
      "Requirement already satisfied: asgiref in /opt/anaconda3/lib/python3.6/site-packages (3.4.1)\n",
      "Requirement already satisfied: typing-extensions; python_version < \"3.8\" in /opt/anaconda3/lib/python3.6/site-packages (from asgiref) (4.1.1)\n",
      "Requirement already satisfied: ratelimit in /opt/anaconda3/lib/python3.6/site-packages (2.2.1)\n",
      "Requirement already satisfied: tqdm in /opt/anaconda3/lib/python3.6/site-packages (4.64.0)\n",
      "Requirement already satisfied: importlib-resources; python_version < \"3.7\" in /opt/anaconda3/lib/python3.6/site-packages (from tqdm) (5.4.0)\n",
      "Requirement already satisfied: zipp>=3.1.0; python_version < \"3.10\" in /opt/anaconda3/lib/python3.6/site-packages (from importlib-resources; python_version < \"3.7\"->tqdm) (3.6.0)\n",
      "Collecting requests_async\n",
      "  Downloading requests-async-0.6.2.tar.gz (12 kB)\n",
      "Requirement already satisfied: requests==2.* in /opt/anaconda3/lib/python3.6/site-packages (from requests_async) (2.18.4)\n",
      "Collecting http3==0.6.*\n",
      "  Downloading http3-0.6.7.tar.gz (35 kB)\n",
      "Requirement already satisfied: chardet<3.1.0,>=3.0.2 in /opt/anaconda3/lib/python3.6/site-packages (from requests==2.*->requests_async) (3.0.4)\n",
      "Requirement already satisfied: idna<2.7,>=2.5 in /opt/anaconda3/lib/python3.6/site-packages (from requests==2.*->requests_async) (2.6)\n",
      "Requirement already satisfied: urllib3<1.23,>=1.21.1 in /opt/anaconda3/lib/python3.6/site-packages (from requests==2.*->requests_async) (1.22)\n",
      "Requirement already satisfied: certifi>=2017.4.17 in /opt/anaconda3/lib/python3.6/site-packages (from requests==2.*->requests_async) (2019.11.28)\n",
      "Collecting h11==0.8.*\n",
      "  Downloading h11-0.8.1-py2.py3-none-any.whl (55 kB)\n",
      "\u001b[K     |████████████████████████████████| 55 kB 3.4 MB/s  eta 0:00:01\n",
      "\u001b[?25hCollecting h2==3.*\n",
      "  Downloading h2-3.2.0-py2.py3-none-any.whl (65 kB)\n",
      "\u001b[K     |████████████████████████████████| 65 kB 1.8 MB/s eta 0:00:011\n",
      "\u001b[?25hCollecting rfc3986==1.*\n",
      "  Downloading rfc3986-1.5.0-py2.py3-none-any.whl (31 kB)\n",
      "Collecting hyperframe<6,>=5.2.0\n",
      "  Downloading hyperframe-5.2.0-py2.py3-none-any.whl (12 kB)\n",
      "Collecting hpack<4,>=3.0\n",
      "  Downloading hpack-3.0.0-py2.py3-none-any.whl (38 kB)\n",
      "Building wheels for collected packages: requests-async, http3\n",
      "  Building wheel for requests-async (setup.py) ... \u001b[?25ldone\n",
      "\u001b[?25h  Created wheel for requests-async: filename=requests_async-0.6.2-py3-none-any.whl size=13933 sha256=541c35f919d34c0c2b20812219ecd20f9327334860666da8ec009a48c9cd33ac\n",
      "  Stored in directory: /root/.cache/pip/wheels/d3/c5/f4/0cdb7507866a1ec0d49450caaa41ef52de9e53afdbe346c016\n",
      "  Building wheel for http3 (setup.py) ... \u001b[?25ldone\n",
      "\u001b[?25h  Created wheel for http3: filename=http3-0.6.7-py3-none-any.whl size=42899 sha256=9a1955c6253f00e526c3531694256e85d46cabed2f0bab8eb853241514839695\n",
      "  Stored in directory: /root/.cache/pip/wheels/a0/90/0e/2462a83a3e5b7bc89c047bdb20e68aa357910e473bb16c5679\n",
      "Successfully built requests-async http3\n",
      "Installing collected packages: h11, hyperframe, hpack, h2, rfc3986, http3, requests-async\n",
      "Successfully installed h11-0.8.1 h2-3.2.0 hpack-3.0.0 http3-0.6.7 hyperframe-5.2.0 requests-async-0.6.2 rfc3986-1.5.0\n"
     ]
    }
   ],
   "source": [
    "!pip install pycep-correios\n",
    "!pip install nest_asyncio\n",
    "!pip install \"geopy[aiohttp]\"\n",
    "!pip install asgiref\n",
    "!pip install ratelimit\n",
    "!pip install tqdm\n",
    "!pip install requests_async"
   ]
  },
  {
   "cell_type": "code",
   "execution_count": 2,
   "metadata": {},
   "outputs": [],
   "source": [
    "from pyspark.sql import SparkSession\n",
    "from pyspark.sql import HiveContext\n",
    "\n",
    "hive_context = HiveContext(sc)\n",
    "\n",
    "spark = SparkSession \\\n",
    "    .builder \\\n",
    "    .appName(\"Teste API\") \\\n",
    "    .enableHiveSupport() \\\n",
    "    .getOrCreate()\n",
    "\n",
    "geo = spark.read.orc('/datalake/dadosbrutos/olist_geolocation_dataset.orc')"
   ]
  },
  {
   "cell_type": "code",
   "execution_count": 26,
   "metadata": {},
   "outputs": [],
   "source": [
    "cep_array = [str(row.geolocation_zip_code_prefix) for row in geo.select('geolocation_zip_code_prefix').distinct().collect()]"
   ]
  },
  {
   "cell_type": "markdown",
   "metadata": {},
   "source": [
    "# SYNC"
   ]
  },
  {
   "cell_type": "code",
   "execution_count": 5,
   "metadata": {
    "scrolled": true
   },
   "outputs": [
    {
     "name": "stdout",
     "output_type": "stream",
     "text": [
      "30º coleta, Cep 40740000\n",
      "9 CEPS não encontrados\n",
      "11.111901044845581 segundos\n"
     ]
    },
    {
     "data": {
      "text/html": [
       "<div>\n",
       "<style scoped>\n",
       "    .dataframe tbody tr th:only-of-type {\n",
       "        vertical-align: middle;\n",
       "    }\n",
       "\n",
       "    .dataframe tbody tr th {\n",
       "        vertical-align: top;\n",
       "    }\n",
       "\n",
       "    .dataframe thead th {\n",
       "        text-align: right;\n",
       "    }\n",
       "</style>\n",
       "<table border=\"1\" class=\"dataframe\">\n",
       "  <thead>\n",
       "    <tr style=\"text-align: right;\">\n",
       "      <th></th>\n",
       "      <th>cep</th>\n",
       "      <th>cidade</th>\n",
       "      <th>uf</th>\n",
       "    </tr>\n",
       "  </thead>\n",
       "  <tbody>\n",
       "    <tr>\n",
       "      <th>0</th>\n",
       "      <td>13282000</td>\n",
       "      <td>Vinhedo</td>\n",
       "      <td>SP</td>\n",
       "    </tr>\n",
       "    <tr>\n",
       "      <th>1</th>\n",
       "      <td>14887000</td>\n",
       "      <td>Jaboticabal</td>\n",
       "      <td>SP</td>\n",
       "    </tr>\n",
       "    <tr>\n",
       "      <th>2</th>\n",
       "      <td>16250000</td>\n",
       "      <td>Clementina</td>\n",
       "      <td>SP</td>\n",
       "    </tr>\n",
       "    <tr>\n",
       "      <th>3</th>\n",
       "      <td>17506000</td>\n",
       "      <td>Marília</td>\n",
       "      <td>SP</td>\n",
       "    </tr>\n",
       "    <tr>\n",
       "      <th>4</th>\n",
       "      <td>18306000</td>\n",
       "      <td>Capão Bonito</td>\n",
       "      <td>SP</td>\n",
       "    </tr>\n",
       "    <tr>\n",
       "      <th>5</th>\n",
       "      <td>76976000</td>\n",
       "      <td>Primavera de Rondônia</td>\n",
       "      <td>RO</td>\n",
       "    </tr>\n",
       "    <tr>\n",
       "      <th>6</th>\n",
       "      <td>77303000</td>\n",
       "      <td>Rio da Conceição</td>\n",
       "      <td>TO</td>\n",
       "    </tr>\n",
       "    <tr>\n",
       "      <th>7</th>\n",
       "      <td>77930000</td>\n",
       "      <td>Axixá do Tocantins</td>\n",
       "      <td>TO</td>\n",
       "    </tr>\n",
       "    <tr>\n",
       "      <th>8</th>\n",
       "      <td>78888000</td>\n",
       "      <td>Nova Ubiratã</td>\n",
       "      <td>MT</td>\n",
       "    </tr>\n",
       "    <tr>\n",
       "      <th>9</th>\n",
       "      <td>79785000</td>\n",
       "      <td>Angélica</td>\n",
       "      <td>MS</td>\n",
       "    </tr>\n",
       "    <tr>\n",
       "      <th>10</th>\n",
       "      <td>80820000</td>\n",
       "      <td>Curitiba</td>\n",
       "      <td>PR</td>\n",
       "    </tr>\n",
       "    <tr>\n",
       "      <th>11</th>\n",
       "      <td>83450000</td>\n",
       "      <td>Bocaiúva do Sul</td>\n",
       "      <td>PR</td>\n",
       "    </tr>\n",
       "    <tr>\n",
       "      <th>12</th>\n",
       "      <td>84272000</td>\n",
       "      <td>Telêmaco Borba</td>\n",
       "      <td>PR</td>\n",
       "    </tr>\n",
       "    <tr>\n",
       "      <th>13</th>\n",
       "      <td>85022000</td>\n",
       "      <td>Guarapuava</td>\n",
       "      <td>PR</td>\n",
       "    </tr>\n",
       "    <tr>\n",
       "      <th>14</th>\n",
       "      <td>86804000</td>\n",
       "      <td>Apucarana</td>\n",
       "      <td>PR</td>\n",
       "    </tr>\n",
       "    <tr>\n",
       "      <th>15</th>\n",
       "      <td>86900000</td>\n",
       "      <td>Jandaia do Sul</td>\n",
       "      <td>PR</td>\n",
       "    </tr>\n",
       "    <tr>\n",
       "      <th>16</th>\n",
       "      <td>88140000</td>\n",
       "      <td>Santo Amaro da Imperatriz</td>\n",
       "      <td>SC</td>\n",
       "    </tr>\n",
       "    <tr>\n",
       "      <th>17</th>\n",
       "      <td>88311000</td>\n",
       "      <td>Itajaí</td>\n",
       "      <td>SC</td>\n",
       "    </tr>\n",
       "    <tr>\n",
       "      <th>18</th>\n",
       "      <td>89555000</td>\n",
       "      <td>Ipoméia (Rio das Antas)</td>\n",
       "      <td>SC</td>\n",
       "    </tr>\n",
       "    <tr>\n",
       "      <th>19</th>\n",
       "      <td>89669000</td>\n",
       "      <td>Ipira</td>\n",
       "      <td>SC</td>\n",
       "    </tr>\n",
       "    <tr>\n",
       "      <th>20</th>\n",
       "      <td>39917000</td>\n",
       "      <td>Bandeira</td>\n",
       "      <td>MG</td>\n",
       "    </tr>\n",
       "  </tbody>\n",
       "</table>\n",
       "</div>"
      ],
      "text/plain": [
       "         cep                     cidade  uf\n",
       "0   13282000                    Vinhedo  SP\n",
       "1   14887000                Jaboticabal  SP\n",
       "2   16250000                 Clementina  SP\n",
       "3   17506000                    Marília  SP\n",
       "4   18306000               Capão Bonito  SP\n",
       "5   76976000      Primavera de Rondônia  RO\n",
       "6   77303000           Rio da Conceição  TO\n",
       "7   77930000         Axixá do Tocantins  TO\n",
       "8   78888000               Nova Ubiratã  MT\n",
       "9   79785000                   Angélica  MS\n",
       "10  80820000                   Curitiba  PR\n",
       "11  83450000            Bocaiúva do Sul  PR\n",
       "12  84272000             Telêmaco Borba  PR\n",
       "13  85022000                 Guarapuava  PR\n",
       "14  86804000                  Apucarana  PR\n",
       "15  86900000             Jandaia do Sul  PR\n",
       "16  88140000  Santo Amaro da Imperatriz  SC\n",
       "17  88311000                     Itajaí  SC\n",
       "18  89555000    Ipoméia (Rio das Antas)  SC\n",
       "19  89669000                      Ipira  SC\n",
       "20  39917000                   Bandeira  MG"
      ]
     },
     "execution_count": 5,
     "metadata": {},
     "output_type": "execute_result"
    }
   ],
   "source": [
    "from pycep_correios import get_address_from_cep, WebService, exceptions\n",
    "import zeep\n",
    "import pandas as pd\n",
    "import time\n",
    "# All rows generated with the adress will saved into empty result variable list \n",
    "start = time.time()\n",
    "def get_adresses(limit=None):\n",
    "    counter = 1\n",
    "    result = []\n",
    "    sufixos = ['000']# '500', '970', '900', '990', '960']\n",
    "    found = 0\n",
    "    for i in cep_array:\n",
    "        for sufixo in sufixos:\n",
    "            try:\n",
    "                cep = i + sufixo\n",
    "                print(f\"{counter}º coleta, Cep {cep}\", end=\"\\r\")\n",
    "                endereco = get_address_from_cep(cep, webservice=WebService.CORREIOS)\n",
    "                if(endereco[\"cep\"] != \"\"):\n",
    "                    result.append(endereco) \n",
    "                    found += 1\n",
    "                    break\n",
    "            except exceptions.BaseException as e:  \n",
    "                pass\n",
    "        counter += 1\n",
    "        if counter > limit:break\n",
    "            \n",
    "    print(f\"\\n{limit - found} CEPS não encontrados\")\n",
    "    # Using filter() method to filter None values\n",
    "    return result\n",
    "\n",
    "if __name__ == \"__main__\":\n",
    "    test = get_adresses(limit=30)\n",
    "\n",
    "# Creating a dataframe from function return result\n",
    "df = pd.DataFrame(test)\n",
    "df = df[['cep','cidade','uf']]\n",
    "end = time.time()\n",
    "print(f\"{end - start} segundos\")\n",
    "df.head(100)\n"
   ]
  },
  {
   "cell_type": "markdown",
   "metadata": {},
   "source": [
    "# ASYNC"
   ]
  },
  {
   "cell_type": "code",
   "execution_count": 4,
   "metadata": {},
   "outputs": [
    {
     "name": "stdout",
     "output_type": "stream",
     "text": [
      "425.3440291881561 segundos\n"
     ]
    },
    {
     "data": {
      "text/html": [
       "<div>\n",
       "<style scoped>\n",
       "    .dataframe tbody tr th:only-of-type {\n",
       "        vertical-align: middle;\n",
       "    }\n",
       "\n",
       "    .dataframe tbody tr th {\n",
       "        vertical-align: top;\n",
       "    }\n",
       "\n",
       "    .dataframe thead th {\n",
       "        text-align: right;\n",
       "    }\n",
       "</style>\n",
       "<table border=\"1\" class=\"dataframe\">\n",
       "  <thead>\n",
       "    <tr style=\"text-align: right;\">\n",
       "      <th></th>\n",
       "      <th>cep</th>\n",
       "      <th>cidade</th>\n",
       "      <th>uf</th>\n",
       "    </tr>\n",
       "  </thead>\n",
       "  <tbody>\n",
       "    <tr>\n",
       "      <th>0</th>\n",
       "      <td>13282000</td>\n",
       "      <td>Vinhedo</td>\n",
       "      <td>SP</td>\n",
       "    </tr>\n",
       "    <tr>\n",
       "      <th>1</th>\n",
       "      <td>14887000</td>\n",
       "      <td>Jaboticabal</td>\n",
       "      <td>SP</td>\n",
       "    </tr>\n",
       "    <tr>\n",
       "      <th>2</th>\n",
       "      <td>16250000</td>\n",
       "      <td>Clementina</td>\n",
       "      <td>SP</td>\n",
       "    </tr>\n",
       "    <tr>\n",
       "      <th>3</th>\n",
       "      <td>17506000</td>\n",
       "      <td>Marília</td>\n",
       "      <td>SP</td>\n",
       "    </tr>\n",
       "    <tr>\n",
       "      <th>4</th>\n",
       "      <td>18306000</td>\n",
       "      <td>Capão Bonito</td>\n",
       "      <td>SP</td>\n",
       "    </tr>\n",
       "    <tr>\n",
       "      <th>...</th>\n",
       "      <td>...</td>\n",
       "      <td>...</td>\n",
       "      <td>...</td>\n",
       "    </tr>\n",
       "    <tr>\n",
       "      <th>95</th>\n",
       "      <td>31330000</td>\n",
       "      <td>Belo Horizonte</td>\n",
       "      <td>MG</td>\n",
       "    </tr>\n",
       "    <tr>\n",
       "      <th>96</th>\n",
       "      <td>33840000</td>\n",
       "      <td>Ribeirão das Neves</td>\n",
       "      <td>MG</td>\n",
       "    </tr>\n",
       "    <tr>\n",
       "      <th>97</th>\n",
       "      <td>34565000</td>\n",
       "      <td>Sabará</td>\n",
       "      <td>MG</td>\n",
       "    </tr>\n",
       "    <tr>\n",
       "      <th>98</th>\n",
       "      <td>35438000</td>\n",
       "      <td>Acaiaca</td>\n",
       "      <td>MG</td>\n",
       "    </tr>\n",
       "    <tr>\n",
       "      <th>99</th>\n",
       "      <td>37160000</td>\n",
       "      <td>Campos Gerais</td>\n",
       "      <td>MG</td>\n",
       "    </tr>\n",
       "  </tbody>\n",
       "</table>\n",
       "<p>100 rows × 3 columns</p>\n",
       "</div>"
      ],
      "text/plain": [
       "         cep              cidade  uf\n",
       "0   13282000             Vinhedo  SP\n",
       "1   14887000         Jaboticabal  SP\n",
       "2   16250000          Clementina  SP\n",
       "3   17506000             Marília  SP\n",
       "4   18306000        Capão Bonito  SP\n",
       "..       ...                 ...  ..\n",
       "95  31330000      Belo Horizonte  MG\n",
       "96  33840000  Ribeirão das Neves  MG\n",
       "97  34565000              Sabará  MG\n",
       "98  35438000             Acaiaca  MG\n",
       "99  37160000       Campos Gerais  MG\n",
       "\n",
       "[100 rows x 3 columns]"
      ]
     },
     "execution_count": 4,
     "metadata": {},
     "output_type": "execute_result"
    }
   ],
   "source": [
    "from pycep_correios import get_address_from_cep, WebService, exceptions\n",
    "import zeep\n",
    "import pandas as pd\n",
    "# All rows generated with the adress will saved into empty result variable list \n",
    "\n",
    "import asyncio\n",
    "import aiohttp\n",
    "import os\n",
    "import time\n",
    "import numpy as np\n",
    "import nest_asyncio\n",
    "from asgiref.sync import sync_to_async\n",
    "\n",
    "start = time.time()\n",
    "global results\n",
    "global counter\n",
    "results = []\n",
    "counter = 0\n",
    "def run_process(cep):\n",
    "    try:\n",
    "        get_address_from_cep(cep, webservice=WebService.CORREIOS)\n",
    "    except exceptions.BaseException as e: \n",
    "        pass\n",
    "\n",
    "async def get_adress(cep):\n",
    "    response = await sync_to_async(get_address_from_cep)(cep, webservice=WebService.CORREIOS)\n",
    "    if response['cep'] == \"\":return\n",
    "    results.append(response)\n",
    "    counter += 1\n",
    "    print(f'{counter}')\n",
    "    \n",
    "        \n",
    "async def get_all_adresses():\n",
    "    async with aiohttp.ClientSession() as session:\n",
    "        global tasks\n",
    "        tasks = [] \n",
    "        sufixos = ['000']#, '500', '970', '900', '990', '960']\n",
    "        tasks = [asyncio.ensure_future(get_adress(i + sufixo))\n",
    "                 for i in cep_array[0:1000]\n",
    "                 for sufixo in sufixos]\n",
    "        await asyncio.gather(*tasks, return_exceptions=True)\n",
    "                \n",
    "nest_asyncio.apply()\n",
    "loop = asyncio.get_event_loop().run_until_complete(get_all_adresses())\n",
    "\n",
    "# Creating a dataframe from function return result\n",
    "df = pd.DataFrame(results)\n",
    "df = df[['cep','cidade','uf']]\n",
    "df = df.replace('', np.nan)\n",
    "df = df.dropna()\n",
    "\n",
    "end = time.time()\n",
    "#print(results)\n",
    "#print(tasks)\n",
    "print(f\"{end - start} segundos\")\n",
    "df.head(100)"
   ]
  },
  {
   "cell_type": "code",
   "execution_count": 220,
   "metadata": {},
   "outputs": [
    {
     "name": "stdout",
     "output_type": "stream",
     "text": [
      "Downloaded 19015 ceps in 144.70813179016113 seconds\n"
     ]
    },
    {
     "data": {
      "text/html": [
       "<div>\n",
       "<style scoped>\n",
       "    .dataframe tbody tr th:only-of-type {\n",
       "        vertical-align: middle;\n",
       "    }\n",
       "\n",
       "    .dataframe tbody tr th {\n",
       "        vertical-align: top;\n",
       "    }\n",
       "\n",
       "    .dataframe thead th {\n",
       "        text-align: right;\n",
       "    }\n",
       "</style>\n",
       "<table border=\"1\" class=\"dataframe\">\n",
       "  <thead>\n",
       "    <tr style=\"text-align: right;\">\n",
       "      <th></th>\n",
       "      <th>cep</th>\n",
       "      <th>localidade</th>\n",
       "      <th>uf</th>\n",
       "    </tr>\n",
       "  </thead>\n",
       "  <tbody>\n",
       "    <tr>\n",
       "      <th>0</th>\n",
       "      <td>76976970</td>\n",
       "      <td>Primavera de Rondônia</td>\n",
       "      <td>RO</td>\n",
       "    </tr>\n",
       "    <tr>\n",
       "      <th>1</th>\n",
       "      <td>77303970</td>\n",
       "      <td>Rio da Conceição</td>\n",
       "      <td>TO</td>\n",
       "    </tr>\n",
       "    <tr>\n",
       "      <th>2</th>\n",
       "      <td>79785971</td>\n",
       "      <td>Angélica</td>\n",
       "      <td>MS</td>\n",
       "    </tr>\n",
       "    <tr>\n",
       "      <th>3</th>\n",
       "      <td>16250970</td>\n",
       "      <td>Clementina</td>\n",
       "      <td>SP</td>\n",
       "    </tr>\n",
       "    <tr>\n",
       "      <th>4</th>\n",
       "      <td>77930970</td>\n",
       "      <td>Axixá do Tocantins</td>\n",
       "      <td>TO</td>\n",
       "    </tr>\n",
       "    <tr>\n",
       "      <th>...</th>\n",
       "      <td>...</td>\n",
       "      <td>...</td>\n",
       "      <td>...</td>\n",
       "    </tr>\n",
       "    <tr>\n",
       "      <th>95</th>\n",
       "      <td>32654804</td>\n",
       "      <td>Betim</td>\n",
       "      <td>MG</td>\n",
       "    </tr>\n",
       "    <tr>\n",
       "      <th>96</th>\n",
       "      <td>72314701</td>\n",
       "      <td>Brasília</td>\n",
       "      <td>DF</td>\n",
       "    </tr>\n",
       "    <tr>\n",
       "      <th>97</th>\n",
       "      <td>99690970</td>\n",
       "      <td>Liberato Salzano</td>\n",
       "      <td>RS</td>\n",
       "    </tr>\n",
       "    <tr>\n",
       "      <th>98</th>\n",
       "      <td>56505000</td>\n",
       "      <td>Arcoverde</td>\n",
       "      <td>PE</td>\n",
       "    </tr>\n",
       "    <tr>\n",
       "      <th>99</th>\n",
       "      <td>28500970</td>\n",
       "      <td>Cantagalo</td>\n",
       "      <td>RJ</td>\n",
       "    </tr>\n",
       "  </tbody>\n",
       "</table>\n",
       "<p>100 rows × 3 columns</p>\n",
       "</div>"
      ],
      "text/plain": [
       "         cep             localidade  uf\n",
       "0   76976970  Primavera de Rondônia  RO\n",
       "1   77303970       Rio da Conceição  TO\n",
       "2   79785971               Angélica  MS\n",
       "3   16250970             Clementina  SP\n",
       "4   77930970     Axixá do Tocantins  TO\n",
       "..       ...                    ...  ..\n",
       "95  32654804                  Betim  MG\n",
       "96  72314701               Brasília  DF\n",
       "97  99690970       Liberato Salzano  RS\n",
       "98  56505000              Arcoverde  PE\n",
       "99  28500970              Cantagalo  RJ\n",
       "\n",
       "[100 rows x 3 columns]"
      ]
     },
     "execution_count": 220,
     "metadata": {},
     "output_type": "execute_result"
    }
   ],
   "source": [
    "import asyncio\n",
    "import time\n",
    "import aiohttp\n",
    "import nest_asyncio\n",
    "from asgiref.sync import sync_to_async\n",
    "global results\n",
    "results = []\n",
    "global URL\n",
    "URL = 'https://buscacepinter.correios.com.br/app/endereco/carrega-cep-endereco.php'\n",
    "\n",
    "\n",
    "async def get_address(session, cep):\n",
    "    async with session.post(url=URL, data={'endereco': cep, 'tipoCEP': 'ALL'}) as response:\n",
    "        response = await response.text()\n",
    "        try:\n",
    "            if json.loads(response)[\"dados\"][0][\"cep\"] != '': \n",
    "                results.append(json.loads(response)[\"dados\"][0])\n",
    "                print(len(results), end=\"\\r\")\n",
    "        except:\n",
    "            pass\n",
    "\n",
    "\n",
    "async def get_all_addresses(ceps):\n",
    "    async with aiohttp.ClientSession() as session:\n",
    "        tasks = []\n",
    "        for cep in ceps:\n",
    "            task = asyncio.ensure_future(get_address(session, cep))\n",
    "            tasks.append(task)\n",
    "        await asyncio.gather(*tasks, return_exceptions=False)\n",
    "        \n",
    "\n",
    "\n",
    "if __name__ == \"__main__\":\n",
    "    nest_asyncio.apply()\n",
    "    start_time = time.time()\n",
    "    ceps_array = cep_array\n",
    "    asyncio.get_event_loop().run_until_complete(get_all_addresses(ceps_array))\n",
    "    \n",
    "    df = pd.DataFrame(results)\n",
    "    df = df[['cep','localidade','uf']]\n",
    "    \n",
    "    duration = time.time() - start_time\n",
    "    print(f\"Downloaded {len(ceps_array)} ceps in {duration} seconds\")\n",
    "\n",
    "df.head(100)"
   ]
  },
  {
   "cell_type": "code",
   "execution_count": 221,
   "metadata": {},
   "outputs": [
    {
     "data": {
      "text/plain": [
       "cep           18616\n",
       "localidade    18616\n",
       "uf            18616\n",
       "dtype: int64"
      ]
     },
     "execution_count": 221,
     "metadata": {},
     "output_type": "execute_result"
    }
   ],
   "source": [
    "df.count()"
   ]
  },
  {
   "cell_type": "code",
   "execution_count": 222,
   "metadata": {},
   "outputs": [
    {
     "data": {
      "text/plain": [
       "19015"
      ]
     },
     "execution_count": 222,
     "metadata": {},
     "output_type": "execute_result"
    }
   ],
   "source": [
    "len(cep_array)"
   ]
  },
  {
   "cell_type": "code",
   "execution_count": 223,
   "metadata": {},
   "outputs": [
    {
     "data": {
      "text/html": [
       "<div>\n",
       "<style scoped>\n",
       "    .dataframe tbody tr th:only-of-type {\n",
       "        vertical-align: middle;\n",
       "    }\n",
       "\n",
       "    .dataframe tbody tr th {\n",
       "        vertical-align: top;\n",
       "    }\n",
       "\n",
       "    .dataframe thead th {\n",
       "        text-align: right;\n",
       "    }\n",
       "</style>\n",
       "<table border=\"1\" class=\"dataframe\">\n",
       "  <thead>\n",
       "    <tr style=\"text-align: right;\">\n",
       "      <th></th>\n",
       "      <th>cep</th>\n",
       "      <th>localidade</th>\n",
       "      <th>uf</th>\n",
       "    </tr>\n",
       "  </thead>\n",
       "  <tbody>\n",
       "    <tr>\n",
       "      <th>74</th>\n",
       "      <td>29903192</td>\n",
       "      <td>Linhares</td>\n",
       "      <td>ES</td>\n",
       "    </tr>\n",
       "    <tr>\n",
       "      <th>146</th>\n",
       "      <td>76824406</td>\n",
       "      <td>Porto Velho</td>\n",
       "      <td>RO</td>\n",
       "    </tr>\n",
       "    <tr>\n",
       "      <th>272</th>\n",
       "      <td>22630013</td>\n",
       "      <td>Rio de Janeiro</td>\n",
       "      <td>RJ</td>\n",
       "    </tr>\n",
       "    <tr>\n",
       "      <th>289</th>\n",
       "      <td>60125001</td>\n",
       "      <td>Fortaleza</td>\n",
       "      <td>CE</td>\n",
       "    </tr>\n",
       "    <tr>\n",
       "      <th>354</th>\n",
       "      <td>76824166</td>\n",
       "      <td>Porto Velho</td>\n",
       "      <td>RO</td>\n",
       "    </tr>\n",
       "    <tr>\n",
       "      <th>...</th>\n",
       "      <td>...</td>\n",
       "      <td>...</td>\n",
       "      <td>...</td>\n",
       "    </tr>\n",
       "    <tr>\n",
       "      <th>18604</th>\n",
       "      <td>69902410</td>\n",
       "      <td>Rio Branco</td>\n",
       "      <td>AC</td>\n",
       "    </tr>\n",
       "    <tr>\n",
       "      <th>18605</th>\n",
       "      <td>76808458</td>\n",
       "      <td>Porto Velho</td>\n",
       "      <td>RO</td>\n",
       "    </tr>\n",
       "    <tr>\n",
       "      <th>18609</th>\n",
       "      <td>60540510</td>\n",
       "      <td>Fortaleza</td>\n",
       "      <td>CE</td>\n",
       "    </tr>\n",
       "    <tr>\n",
       "      <th>18611</th>\n",
       "      <td>29145910</td>\n",
       "      <td>Cariacica</td>\n",
       "      <td>ES</td>\n",
       "    </tr>\n",
       "    <tr>\n",
       "      <th>18613</th>\n",
       "      <td>69918630</td>\n",
       "      <td>Rio Branco</td>\n",
       "      <td>AC</td>\n",
       "    </tr>\n",
       "  </tbody>\n",
       "</table>\n",
       "<p>4009 rows × 3 columns</p>\n",
       "</div>"
      ],
      "text/plain": [
       "            cep      localidade  uf\n",
       "74     29903192        Linhares  ES\n",
       "146    76824406     Porto Velho  RO\n",
       "272    22630013  Rio de Janeiro  RJ\n",
       "289    60125001       Fortaleza  CE\n",
       "354    76824166     Porto Velho  RO\n",
       "...         ...             ...  ..\n",
       "18604  69902410      Rio Branco  AC\n",
       "18605  76808458     Porto Velho  RO\n",
       "18609  60540510       Fortaleza  CE\n",
       "18611  29145910       Cariacica  ES\n",
       "18613  69918630      Rio Branco  AC\n",
       "\n",
       "[4009 rows x 3 columns]"
      ]
     },
     "execution_count": 223,
     "metadata": {},
     "output_type": "execute_result"
    }
   ],
   "source": [
    "df[df['cep'].str.slice(0, 5).duplicated()]"
   ]
  },
  {
   "cell_type": "markdown",
   "metadata": {},
   "source": [
    "# MULTIPROCESSING"
   ]
  },
  {
   "cell_type": "code",
   "execution_count": 99,
   "metadata": {},
   "outputs": [
    {
     "name": "stderr",
     "output_type": "stream",
     "text": [
      "  7%|▋         | 71/1000 [00:08<01:31, 10.18it/s]"
     ]
    },
    {
     "name": "stdout",
     "output_type": "stream",
     "text": [
      "list index out of range\n"
     ]
    },
    {
     "name": "stderr",
     "output_type": "stream",
     "text": [
      "  9%|▉         | 93/1000 [00:11<02:15,  6.70it/s]"
     ]
    },
    {
     "name": "stdout",
     "output_type": "stream",
     "text": [
      "list index out of range\n"
     ]
    },
    {
     "name": "stderr",
     "output_type": "stream",
     "text": [
      " 14%|█▍        | 141/1000 [00:16<01:34,  9.07it/s]"
     ]
    },
    {
     "name": "stdout",
     "output_type": "stream",
     "text": [
      "list index out of range\n"
     ]
    },
    {
     "name": "stderr",
     "output_type": "stream",
     "text": [
      " 18%|█▊        | 175/1000 [00:20<01:46,  7.75it/s]"
     ]
    },
    {
     "name": "stdout",
     "output_type": "stream",
     "text": [
      "list index out of range\n",
      "list index out of range\n"
     ]
    },
    {
     "name": "stderr",
     "output_type": "stream",
     "text": [
      " 19%|█▊        | 187/1000 [00:21<01:23,  9.73it/s]"
     ]
    },
    {
     "name": "stdout",
     "output_type": "stream",
     "text": [
      "list index out of range\n"
     ]
    },
    {
     "name": "stderr",
     "output_type": "stream",
     "text": [
      " 20%|█▉        | 199/1000 [00:23<01:23,  9.58it/s]"
     ]
    },
    {
     "name": "stdout",
     "output_type": "stream",
     "text": [
      "list index out of range\n"
     ]
    },
    {
     "name": "stderr",
     "output_type": "stream",
     "text": [
      " 25%|██▍       | 249/1000 [00:29<01:39,  7.57it/s]"
     ]
    },
    {
     "name": "stdout",
     "output_type": "stream",
     "text": [
      "list index out of range\n"
     ]
    },
    {
     "name": "stderr",
     "output_type": "stream",
     "text": [
      " 34%|███▍      | 339/1000 [00:40<01:13,  8.94it/s]"
     ]
    },
    {
     "name": "stdout",
     "output_type": "stream",
     "text": [
      "list index out of range\n"
     ]
    },
    {
     "name": "stderr",
     "output_type": "stream",
     "text": [
      " 35%|███▍      | 347/1000 [00:40<01:01, 10.66it/s]"
     ]
    },
    {
     "name": "stdout",
     "output_type": "stream",
     "text": [
      "list index out of range\n"
     ]
    },
    {
     "name": "stderr",
     "output_type": "stream",
     "text": [
      "\r",
      " 35%|███▍      | 349/1000 [00:41<01:24,  7.67it/s]"
     ]
    },
    {
     "name": "stdout",
     "output_type": "stream",
     "text": [
      "list index out of range\n"
     ]
    },
    {
     "name": "stderr",
     "output_type": "stream",
     "text": [
      " 42%|████▎     | 425/1000 [00:49<01:03,  9.13it/s]"
     ]
    },
    {
     "name": "stdout",
     "output_type": "stream",
     "text": [
      "list index out of range\n"
     ]
    },
    {
     "name": "stderr",
     "output_type": "stream",
     "text": [
      " 43%|████▎     | 431/1000 [00:50<01:09,  8.19it/s]"
     ]
    },
    {
     "name": "stdout",
     "output_type": "stream",
     "text": [
      "list index out of range\n"
     ]
    },
    {
     "name": "stderr",
     "output_type": "stream",
     "text": [
      " 52%|█████▎    | 525/1000 [01:00<00:47,  9.93it/s]"
     ]
    },
    {
     "name": "stdout",
     "output_type": "stream",
     "text": [
      "list index out of range\n"
     ]
    },
    {
     "name": "stderr",
     "output_type": "stream",
     "text": [
      " 63%|██████▎   | 630/1000 [01:13<00:50,  7.40it/s]"
     ]
    },
    {
     "name": "stdout",
     "output_type": "stream",
     "text": [
      "list index out of range\n"
     ]
    },
    {
     "name": "stderr",
     "output_type": "stream",
     "text": [
      " 66%|██████▌   | 657/1000 [01:16<00:38,  8.90it/s]"
     ]
    },
    {
     "name": "stdout",
     "output_type": "stream",
     "text": [
      "list index out of range\n"
     ]
    },
    {
     "name": "stderr",
     "output_type": "stream",
     "text": [
      " 69%|██████▉   | 693/1000 [01:20<00:41,  7.46it/s]"
     ]
    },
    {
     "name": "stdout",
     "output_type": "stream",
     "text": [
      "list index out of range\n"
     ]
    },
    {
     "name": "stderr",
     "output_type": "stream",
     "text": [
      " 72%|███████▏  | 720/1000 [01:23<00:32,  8.67it/s]"
     ]
    },
    {
     "name": "stdout",
     "output_type": "stream",
     "text": [
      "list index out of range\n"
     ]
    },
    {
     "name": "stderr",
     "output_type": "stream",
     "text": [
      " 74%|███████▍  | 744/1000 [01:26<00:32,  7.87it/s]"
     ]
    },
    {
     "name": "stdout",
     "output_type": "stream",
     "text": [
      "list index out of range\n"
     ]
    },
    {
     "name": "stderr",
     "output_type": "stream",
     "text": [
      " 76%|███████▌  | 760/1000 [01:28<00:33,  7.17it/s]"
     ]
    },
    {
     "name": "stdout",
     "output_type": "stream",
     "text": [
      "list index out of range\n"
     ]
    },
    {
     "name": "stderr",
     "output_type": "stream",
     "text": [
      "\r",
      " 76%|███████▋  | 765/1000 [01:28<00:22, 10.61it/s]"
     ]
    },
    {
     "name": "stdout",
     "output_type": "stream",
     "text": [
      "list index out of range\n"
     ]
    },
    {
     "name": "stderr",
     "output_type": "stream",
     "text": [
      " 85%|████████▌ | 851/1000 [01:39<00:14, 10.57it/s]"
     ]
    },
    {
     "name": "stdout",
     "output_type": "stream",
     "text": [
      "list index out of range\n"
     ]
    },
    {
     "name": "stderr",
     "output_type": "stream",
     "text": [
      " 89%|████████▉ | 893/1000 [01:44<00:13,  7.98it/s]"
     ]
    },
    {
     "name": "stdout",
     "output_type": "stream",
     "text": [
      "list index out of range\n"
     ]
    },
    {
     "name": "stderr",
     "output_type": "stream",
     "text": [
      "100%|██████████| 1000/1000 [01:57<00:00,  8.48it/s]\n"
     ]
    },
    {
     "name": "stdout",
     "output_type": "stream",
     "text": [
      "0.0004487037658691406 segundos\n"
     ]
    },
    {
     "data": {
      "text/html": [
       "<div>\n",
       "<style scoped>\n",
       "    .dataframe tbody tr th:only-of-type {\n",
       "        vertical-align: middle;\n",
       "    }\n",
       "\n",
       "    .dataframe tbody tr th {\n",
       "        vertical-align: top;\n",
       "    }\n",
       "\n",
       "    .dataframe thead th {\n",
       "        text-align: right;\n",
       "    }\n",
       "</style>\n",
       "<table border=\"1\" class=\"dataframe\">\n",
       "  <thead>\n",
       "    <tr style=\"text-align: right;\">\n",
       "      <th></th>\n",
       "      <th>cep</th>\n",
       "      <th>localidade</th>\n",
       "      <th>uf</th>\n",
       "      <th>original_cep</th>\n",
       "    </tr>\n",
       "  </thead>\n",
       "  <tbody>\n",
       "    <tr>\n",
       "      <th>0</th>\n",
       "      <td>16250970</td>\n",
       "      <td>Clementina</td>\n",
       "      <td>SP</td>\n",
       "      <td>16250</td>\n",
       "    </tr>\n",
       "    <tr>\n",
       "      <th>1</th>\n",
       "      <td>17506000</td>\n",
       "      <td>Marília</td>\n",
       "      <td>SP</td>\n",
       "      <td>17506</td>\n",
       "    </tr>\n",
       "    <tr>\n",
       "      <th>2</th>\n",
       "      <td>18306025</td>\n",
       "      <td>Capão Bonito</td>\n",
       "      <td>SP</td>\n",
       "      <td>18306</td>\n",
       "    </tr>\n",
       "    <tr>\n",
       "      <th>3</th>\n",
       "      <td>14887250</td>\n",
       "      <td>Jaboticabal</td>\n",
       "      <td>SP</td>\n",
       "      <td>14887</td>\n",
       "    </tr>\n",
       "    <tr>\n",
       "      <th>4</th>\n",
       "      <td>13282596</td>\n",
       "      <td>Vinhedo</td>\n",
       "      <td>SP</td>\n",
       "      <td>13282</td>\n",
       "    </tr>\n",
       "    <tr>\n",
       "      <th>...</th>\n",
       "      <td>...</td>\n",
       "      <td>...</td>\n",
       "      <td>...</td>\n",
       "      <td>...</td>\n",
       "    </tr>\n",
       "    <tr>\n",
       "      <th>96</th>\n",
       "      <td>95211435</td>\n",
       "      <td>Vacaria</td>\n",
       "      <td>RS</td>\n",
       "      <td>95211</td>\n",
       "    </tr>\n",
       "    <tr>\n",
       "      <th>97</th>\n",
       "      <td>54430030</td>\n",
       "      <td>Jaboatão dos Guararapes</td>\n",
       "      <td>PE</td>\n",
       "      <td>54430</td>\n",
       "    </tr>\n",
       "    <tr>\n",
       "      <th>98</th>\n",
       "      <td>93410175</td>\n",
       "      <td>Novo Hamburgo</td>\n",
       "      <td>RS</td>\n",
       "      <td>93410</td>\n",
       "    </tr>\n",
       "    <tr>\n",
       "      <th>100</th>\n",
       "      <td>92027033</td>\n",
       "      <td>Canoas</td>\n",
       "      <td>RS</td>\n",
       "      <td>92027</td>\n",
       "    </tr>\n",
       "    <tr>\n",
       "      <th>101</th>\n",
       "      <td>91788130</td>\n",
       "      <td>Porto Alegre</td>\n",
       "      <td>RS</td>\n",
       "      <td>91788</td>\n",
       "    </tr>\n",
       "  </tbody>\n",
       "</table>\n",
       "<p>100 rows × 4 columns</p>\n",
       "</div>"
      ],
      "text/plain": [
       "          cep               localidade  uf original_cep\n",
       "0    16250970               Clementina  SP        16250\n",
       "1    17506000                  Marília  SP        17506\n",
       "2    18306025             Capão Bonito  SP        18306\n",
       "3    14887250              Jaboticabal  SP        14887\n",
       "4    13282596                  Vinhedo  SP        13282\n",
       "..        ...                      ...  ..          ...\n",
       "96   95211435                  Vacaria  RS        95211\n",
       "97   54430030  Jaboatão dos Guararapes  PE        54430\n",
       "98   93410175            Novo Hamburgo  RS        93410\n",
       "100  92027033                   Canoas  RS        92027\n",
       "101  91788130             Porto Alegre  RS        91788\n",
       "\n",
       "[100 rows x 4 columns]"
      ]
     },
     "execution_count": 99,
     "metadata": {},
     "output_type": "execute_result"
    }
   ],
   "source": [
    "from multiprocessing import Pool, Manager, cpu_count\n",
    "from pycep_correios import get_address_from_cep, WebService, exceptions\n",
    "from ratelimit import limits, sleep_and_retry\n",
    "from functools import partial\n",
    "from tqdm import tqdm\n",
    "import requests\n",
    "import json\n",
    "import numpy as np\n",
    "import time\n",
    "import pandas as pd\n",
    "\n",
    "ceps_array = cep_array[0:1000]\n",
    "global URL\n",
    "URL = 'https://buscacepinter.correios.com.br/app/endereco/carrega-cep-endereco.php'\n",
    "start = time.time()\n",
    "@sleep_and_retry\n",
    "@limits(calls=100, period=60)\n",
    "def call_api(cep):\n",
    "    myobj = {'endereco': cep, \"tipoCEP\": \"ALL\"}\n",
    "    response = requests.post(URL, data = myobj)\n",
    "    return response\n",
    "\n",
    "def get_adress_multiprocess(listManager=None, ceps_list=None, process=0):\n",
    "    cep = ceps_list[process]\n",
    "    info = None\n",
    "    resolved = False\n",
    "    \n",
    "    try:\n",
    "        while not resolved:  \n",
    "            res = None\n",
    "            adress_info = None\n",
    "            tooManyCalls = False\n",
    "            try:\n",
    "                res = call_api(cep)\n",
    "                if json.loads(res.text)[\"dados\"][0][\"cep\"] == '':\n",
    "                    resolved = True\n",
    "                    break\n",
    "           \n",
    "            except Exception as e:\n",
    "                if e == 'too many calls':\n",
    "                    tooManyCalls =True\n",
    "                    \n",
    "            if tooManyCalls:\n",
    "                time.sleep(60)\n",
    "\n",
    "            elif res.status_code < 300:\n",
    "                adress_info = json.loads(res.text)[\"dados\"][0]\n",
    "                resolved = True \n",
    "                \n",
    "            elif res.status_code == 429:\n",
    "                print(res.status_code)\n",
    "                time.sleep(60)\n",
    "\n",
    "            else:\n",
    "                print(res.status_code)\n",
    "                sleep_val = random.randint(1,10)\n",
    "                time.sleep(sleep_val)\n",
    "        \n",
    "    except Exception as e:\n",
    "        pass\n",
    "    finally:\n",
    "        if adress_info != None:\n",
    "            listManager.append(adress_info)\n",
    "            time.sleep(0.5)\n",
    "            return\n",
    "\n",
    "def main_adresses_run_multiprocessing():\n",
    "    ## cannot be 0, so max(NUMBER,1) solves this\n",
    "    workers = max(cpu_count()-1,1)\n",
    "\n",
    "    ## create the pool\n",
    "    manager = Manager()\n",
    "    \n",
    "    ## Need a manager to help get the values async, the values will be updated after join\n",
    "    listManager = manager.list()\n",
    "    pool = Pool(workers)\n",
    "    try:\n",
    "        part_get_clean_adress = partial(get_adress_multiprocess, listManager, ceps_array)\n",
    "#         could do this the below is visualize the rate success /etc\n",
    "#         pool.imap(part_get_clean_pokemon, list(range(0, len(links_pokemon))))\n",
    "#         using tqdm to see progress imap works\n",
    "        for _ in tqdm(pool.imap(part_get_clean_adress, list(range(0, len(ceps_array)))), total=len(ceps_array)):\n",
    "            pass\n",
    "        pool.close()\n",
    "        pool.join()\n",
    "    finally:\n",
    "        pool.close()\n",
    "        pool.join()\n",
    "        \n",
    "    adressList = list(listManager)\n",
    "    \n",
    "    df_adress = pd.DataFrame(adressList)\n",
    "    return df_adress\n",
    "end = time.time()\n",
    "\n",
    "df_adress = main_adresses_run_multiprocessing()\n",
    "df_adress = df_adress[['cep','localidade','uf']]\n",
    "df_adress[\"original_cep\"] = df_adress['cep'].str.slice(0, 5)\n",
    "df_adress = df_adress.drop_duplicates(subset=\"original_cep\")\n",
    "print(f\"{end - start} segundos\")\n",
    "df_adress.head(100)"
   ]
  },
  {
   "cell_type": "code",
   "execution_count": 93,
   "metadata": {},
   "outputs": [
    {
     "name": "stdout",
     "output_type": "stream",
     "text": [
      "{'uf': 'SP', 'localidade': 'São Roque', 'locNoSem': '', 'locNu': '', 'localidadeSubordinada': '', 'logradouroDNEC': '5º Alto Dona Amasília Ribeiro Lopes', 'logradouroTextoAdicional': '', 'logradouroTexto': '', 'bairro': 'Vila Aguiar', 'baiNu': '', 'nomeUnidade': '', 'cep': '18130649', 'tipoCep': '2', 'numeroLocalidade': '', 'situacao': '', 'faixasCaixaPostal': [], 'faixasCep': []}\n"
     ]
    }
   ],
   "source": [
    "import zeep\n",
    "import requests\n",
    "import json\n",
    "URL = 'https://buscacepinter.correios.com.br/app/endereco/carrega-cep-endereco.php'\n",
    "\n",
    "\n",
    "myobj = {'endereco': '18130', 'tipoCEP': 'ALL'}\n",
    "\n",
    "response = json.loads(requests.post(URL, data = myobj).text)[\"dados\"][0]\n",
    "\n",
    "print(response)"
   ]
  }
 ],
 "metadata": {
  "kernelspec": {
   "display_name": "PySpark",
   "language": "python",
   "name": "pyspark"
  },
  "language_info": {
   "codemirror_mode": {
    "name": "ipython",
    "version": 3
   },
   "file_extension": ".py",
   "mimetype": "text/x-python",
   "name": "python",
   "nbconvert_exporter": "python",
   "pygments_lexer": "ipython3",
   "version": "3.6.10"
  }
 },
 "nbformat": 4,
 "nbformat_minor": 2
}

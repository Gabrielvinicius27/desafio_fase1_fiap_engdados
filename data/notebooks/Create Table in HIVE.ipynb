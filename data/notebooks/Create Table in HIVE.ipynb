{
 "cells": [
  {
   "cell_type": "markdown",
   "metadata": {},
   "source": [
    "## Criar tabelas HIVE para consultar Crimes.csv\n",
    "usando biblioteca pyhive"
   ]
  },
  {
   "cell_type": "code",
   "execution_count": 7,
   "metadata": {},
   "outputs": [
    {
     "name": "stdout",
     "output_type": "stream",
     "text": [
      "Collecting Jaydebeapi\n",
      "  Downloading JayDeBeApi-1.2.3-py3-none-any.whl (26 kB)\n",
      "Collecting JPype1; python_version > \"2.7\" and platform_python_implementation != \"Jython\"\n",
      "  Downloading JPype1-1.3.0-cp36-cp36m-manylinux_2_5_x86_64.manylinux1_x86_64.whl (448 kB)\n",
      "\u001b[K     |████████████████████████████████| 448 kB 6.8 MB/s eta 0:00:01\n",
      "\u001b[?25hCollecting typing-extensions; python_version < \"3.8\"\n",
      "  Downloading typing_extensions-4.1.1-py3-none-any.whl (26 kB)\n",
      "Installing collected packages: typing-extensions, JPype1, Jaydebeapi\n",
      "Successfully installed JPype1-1.3.0 Jaydebeapi-1.2.3 typing-extensions-4.1.1\n"
     ]
    }
   ],
   "source": [
    "!pip install Jaydebeapi\n",
    "#!pip install PyGithub"
   ]
  },
  {
   "cell_type": "code",
   "execution_count": 1,
   "metadata": {},
   "outputs": [
    {
     "name": "stdout",
     "output_type": "stream",
     "text": [
      "hive-jdbc-uber-2.6.3.0-235.jar\n",
      "https://github.com/timveil/hive-jdbc-uber-jar/releases/download/v1.8-2.6.3/hive-jdbc-uber-2.6.3.0-235.jar\n"
     ]
    }
   ],
   "source": [
    "from github import Github\n",
    "import requests\n",
    "import jpype\n",
    "\n",
    "g = Github()\n",
    "asset = g.get_repo('timveil/hive-jdbc-uber-jar').get_latest_release().get_assets()[0]\n",
    "url = asset.browser_download_url\n",
    "print(asset.name)\n",
    "print(url)\n",
    "\n",
    "response = requests.get(url)\n",
    "open(f'{asset.name}', 'wb').write(response.content)\n",
    "response.close()"
   ]
  },
  {
   "cell_type": "code",
   "execution_count": 7,
   "metadata": {},
   "outputs": [
    {
     "name": "stdout",
     "output_type": "stream",
     "text": [
      "[('2009-00002', None, '1/1/09 0:39', 'Simple Assault', 504, 'Cambridgeport', '\"400 Massachusetts Avenue'), ('2009-00003', None, '1/1/09 1:34', 'Simple Assault', 610, 'Mid-Cambridge', '\"200 HAMPSHIRE STREET'), ('2009-00004', None, '01/01/2009 02:20 - 02:35', 'Aggravated Assault', 708, 'Riverside', '\"DUNSTER STREET & MOUNT AUBURN STREET'), ('2009-00005', None, '01/01/2009 02:20 - 02:45', 'Simple Assault', 105, 'East Cambridge', '\"100 SCIARAPPA STREET'), ('2009-00006', None, '01/01/2009 02:15 - 02:35', 'Disorderly', 708, 'Riverside', '\"1200 Massachusetts Avenue')]\n"
     ]
    }
   ],
   "source": [
    "import jaydebeapi\n",
    "\n",
    "# Jar\n",
    "hivejar = f\"/mnt/notebooks/{asset.name}\"\n",
    "driver = \"org.apache.hive.jdbc.HiveDriver\"\n",
    "# JDBC connection string\n",
    "url=(\"jdbc:hive2://hive-server:10000/db_crimes\")\n",
    "\n",
    "#Connect to HiveServer2 \n",
    "conn = jaydebeapi.connect(jclassname=driver, url=url, jars=hivejar)\n",
    "cursor = conn.cursor()\n",
    "\n",
    "# Execute SQL query\n",
    "sql=\"\"\"\n",
    "DROP TABLE db_crimes.crimes\n",
    "\"\"\"\n",
    "cursor.execute(sql)\n",
    "\n",
    "sql=\"\"\"\n",
    "CREATE TABLE IF NOT EXISTS db_crimes.crimes\n",
    "(\n",
    "file_number STRING,\n",
    "date_of_report TIMESTAMP,\n",
    "crime_date_time STRING,\n",
    "crime STRING,\n",
    "reporting_area INT,\n",
    "neighborhood STRING,\n",
    "location STRING)\n",
    "ROW FORMAT DELIMITED\n",
    "FIELDS TERMINATED BY ','\n",
    "\"\"\"\n",
    "cursor.execute(sql)\n",
    "    \n",
    "sql=\"\"\"\n",
    "LOAD DATA INPATH '/datalake/dadosbrutos/crimes.csv' INTO TABLE db_crimes.crimes\n",
    "\"\"\"\n",
    "cursor.execute(sql)\n",
    "\n",
    "sql=\"\"\"\n",
    "SELECT * FROM db_crimes.crimes LIMIT 5\n",
    "\"\"\"\n",
    "cursor.execute(sql)\n",
    "results = cursor.fetchall()\n",
    "print(results)"
   ]
  },
  {
   "cell_type": "code",
   "execution_count": 4,
   "metadata": {
    "scrolled": true
   },
   "outputs": [
    {
     "name": "stdout",
     "output_type": "stream",
     "text": [
      "\r\n"
     ]
    }
   ],
   "source": [
    "!echo \"$CLASSPATH\""
   ]
  },
  {
   "cell_type": "code",
   "execution_count": 2,
   "metadata": {},
   "outputs": [
    {
     "name": "stdout",
     "output_type": "stream",
     "text": [
      "<java class 'org.apache.hive.jdbc.HiveDriver'>\n"
     ]
    }
   ],
   "source": [
    "print(jpype.JClass('org.apache.hive.jdbc.HiveDriver'))"
   ]
  }
 ],
 "metadata": {
  "kernelspec": {
   "display_name": "Python 3",
   "language": "python",
   "name": "python3"
  },
  "language_info": {
   "codemirror_mode": {
    "name": "ipython",
    "version": 3
   },
   "file_extension": ".py",
   "mimetype": "text/x-python",
   "name": "python",
   "nbconvert_exporter": "python",
   "pygments_lexer": "ipython3",
   "version": "3.6.10"
  }
 },
 "nbformat": 4,
 "nbformat_minor": 2
}
